{
 "cells": [
  {
   "cell_type": "code",
   "execution_count": 2,
   "metadata": {},
   "outputs": [
    {
     "name": "stdout",
     "output_type": "stream",
     "text": [
      "Collecting seaborn\n",
      "\u001b[?25l  Downloading https://files.pythonhosted.org/packages/a8/76/220ba4420459d9c4c9c9587c6ce607bf56c25b3d3d2de62056efe482dadc/seaborn-0.9.0-py3-none-any.whl (208kB)\n",
      "\u001b[K    100% |████████████████████████████████| 215kB 5.4MB/s ta 0:00:01\n",
      "\u001b[?25hRequirement already satisfied: scipy>=0.14.0 in /anaconda3/lib/python3.6/site-packages (from seaborn) (1.2.0)\n",
      "Requirement already satisfied: pandas>=0.15.2 in /anaconda3/lib/python3.6/site-packages (from seaborn) (0.24.0)\n",
      "Requirement already satisfied: numpy>=1.9.3 in /anaconda3/lib/python3.6/site-packages (from seaborn) (1.15.4)\n",
      "Requirement already satisfied: matplotlib>=1.4.3 in /anaconda3/lib/python3.6/site-packages (from seaborn) (3.0.2)\n",
      "Requirement already satisfied: python-dateutil>=2.5.0 in /anaconda3/lib/python3.6/site-packages (from pandas>=0.15.2->seaborn) (2.7.5)\n",
      "Requirement already satisfied: pytz>=2011k in /anaconda3/lib/python3.6/site-packages (from pandas>=0.15.2->seaborn) (2018.9)\n",
      "Requirement already satisfied: cycler>=0.10 in /anaconda3/lib/python3.6/site-packages (from matplotlib>=1.4.3->seaborn) (0.10.0)\n",
      "Requirement already satisfied: kiwisolver>=1.0.1 in /anaconda3/lib/python3.6/site-packages (from matplotlib>=1.4.3->seaborn) (1.0.1)\n",
      "Requirement already satisfied: pyparsing!=2.0.4,!=2.1.2,!=2.1.6,>=2.0.1 in /anaconda3/lib/python3.6/site-packages (from matplotlib>=1.4.3->seaborn) (2.3.1)\n",
      "Requirement already satisfied: six>=1.5 in /anaconda3/lib/python3.6/site-packages (from python-dateutil>=2.5.0->pandas>=0.15.2->seaborn) (1.12.0)\n",
      "Requirement already satisfied: setuptools in /anaconda3/lib/python3.6/site-packages (from kiwisolver>=1.0.1->matplotlib>=1.4.3->seaborn) (40.6.3)\n",
      "Installing collected packages: seaborn\n",
      "Successfully installed seaborn-0.9.0\n"
     ]
    }
   ],
   "source": [
    "!pip install seaborn"
   ]
  },
  {
   "cell_type": "code",
   "execution_count": 410,
   "metadata": {},
   "outputs": [],
   "source": [
    "import numpy as np\n",
    "import pandas as pd\n",
    "import matplotlib.pyplot as plt\n",
    "import seaborn as sns\n",
    "import os\n",
    "import re"
   ]
  },
  {
   "cell_type": "code",
   "execution_count": 411,
   "metadata": {},
   "outputs": [],
   "source": [
    "cdr=os.getcwd()"
   ]
  },
  {
   "cell_type": "code",
   "execution_count": 574,
   "metadata": {},
   "outputs": [],
   "source": [
    "use_col=['MovieName','Distributor','Gross','Release','ReleaseInfo',\n",
    "         'Budget','GoldRelease','IssueDataOfGoldenWeek',\n",
    "         'Genre','Number','year','Runtime','Country']"
   ]
  },
  {
   "cell_type": "code",
   "execution_count": 575,
   "metadata": {},
   "outputs": [],
   "source": [
    "data_dict={}\n",
    "for root, dirs, files in os.walk(cdr):\n",
    "    for name in files:\n",
    "        if name[:4]=='data':\n",
    "            #vars()[name[:-4]]=pd.read_csv(name,usecols=use_col)\n",
    "            #name=name[1:]\n",
    "            data_dict[name[:-4]]=pd.read_csv(name,usecols=use_col)\n",
    "            data_dict[name[:-4]]=data_dict[name[:-4]][1:]\n",
    "            #print(name)"
   ]
  },
  {
   "cell_type": "code",
   "execution_count": 576,
   "metadata": {},
   "outputs": [
    {
     "data": {
      "text/plain": [
       "dict_keys(['data_2018', 'data_2015', 'data_2017', 'data_2016'])"
      ]
     },
     "execution_count": 576,
     "metadata": {},
     "output_type": "execute_result"
    }
   ],
   "source": [
    "data_dict.keys()"
   ]
  },
  {
   "cell_type": "markdown",
   "metadata": {},
   "source": [
    "merging data into one table"
   ]
  },
  {
   "cell_type": "code",
   "execution_count": 577,
   "metadata": {},
   "outputs": [],
   "source": [
    "data=pd.DataFrame()\n",
    "for df in data_dict.keys():data=data.append(data_dict[df],sort=True,ignore_index=True) "
   ]
  },
  {
   "cell_type": "code",
   "execution_count": 578,
   "metadata": {},
   "outputs": [],
   "source": [
    "amount=0\n",
    "for df in data_dict.keys():amount=amount+data_dict[df].shape[0]"
   ]
  },
  {
   "cell_type": "code",
   "execution_count": 579,
   "metadata": {},
   "outputs": [
    {
     "data": {
      "text/plain": [
       "True"
      ]
     },
     "execution_count": 579,
     "metadata": {},
     "output_type": "execute_result"
    }
   ],
   "source": [
    "amount==data.shape[0]  # checking wether we lose any data"
   ]
  },
  {
   "cell_type": "code",
   "execution_count": 580,
   "metadata": {},
   "outputs": [
    {
     "data": {
      "text/html": [
       "<div>\n",
       "<style scoped>\n",
       "    .dataframe tbody tr th:only-of-type {\n",
       "        vertical-align: middle;\n",
       "    }\n",
       "\n",
       "    .dataframe tbody tr th {\n",
       "        vertical-align: top;\n",
       "    }\n",
       "\n",
       "    .dataframe thead th {\n",
       "        text-align: right;\n",
       "    }\n",
       "</style>\n",
       "<table border=\"1\" class=\"dataframe\">\n",
       "  <thead>\n",
       "    <tr style=\"text-align: right;\">\n",
       "      <th></th>\n",
       "      <th>Budget</th>\n",
       "      <th>Country</th>\n",
       "      <th>Distributor</th>\n",
       "      <th>Genre</th>\n",
       "      <th>GoldRelease</th>\n",
       "      <th>Gross</th>\n",
       "      <th>IssueDataOfGoldenWeek</th>\n",
       "      <th>MovieName</th>\n",
       "      <th>Number</th>\n",
       "      <th>Release</th>\n",
       "      <th>ReleaseInfo</th>\n",
       "      <th>Runtime</th>\n",
       "      <th>year</th>\n",
       "    </tr>\n",
       "  </thead>\n",
       "  <tbody>\n",
       "    <tr>\n",
       "      <th>0</th>\n",
       "      <td>$70,000,000\\n</td>\n",
       "      <td>China</td>\n",
       "      <td>NaN</td>\n",
       "      <td>Drama</td>\n",
       "      <td>0</td>\n",
       "      <td>$575,849,199</td>\n",
       "      <td>1</td>\n",
       "      <td>Operation Red Sea</td>\n",
       "      <td>12.0</td>\n",
       "      <td>16-Feb</td>\n",
       "      <td>11.0</td>\n",
       "      <td>142</td>\n",
       "      <td>2018.0</td>\n",
       "    </tr>\n",
       "    <tr>\n",
       "      <th>1</th>\n",
       "      <td>$70,000,000\\n</td>\n",
       "      <td>China</td>\n",
       "      <td>NaN</td>\n",
       "      <td>Thriller</td>\n",
       "      <td>0</td>\n",
       "      <td>$575,849,199</td>\n",
       "      <td>1</td>\n",
       "      <td>Operation Red Sea</td>\n",
       "      <td>24.0</td>\n",
       "      <td>16-Feb</td>\n",
       "      <td>11.0</td>\n",
       "      <td>142</td>\n",
       "      <td>2018.0</td>\n",
       "    </tr>\n",
       "    <tr>\n",
       "      <th>2</th>\n",
       "      <td>$70,000,000\\n</td>\n",
       "      <td>China</td>\n",
       "      <td>NaN</td>\n",
       "      <td>War</td>\n",
       "      <td>0</td>\n",
       "      <td>$575,849,199</td>\n",
       "      <td>1</td>\n",
       "      <td>Operation Red Sea</td>\n",
       "      <td>26.0</td>\n",
       "      <td>16-Feb</td>\n",
       "      <td>11.0</td>\n",
       "      <td>142</td>\n",
       "      <td>2018.0</td>\n",
       "    </tr>\n",
       "    <tr>\n",
       "      <th>3</th>\n",
       "      <td>NaN</td>\n",
       "      <td>China</td>\n",
       "      <td>NaN</td>\n",
       "      <td>Action</td>\n",
       "      <td>0</td>\n",
       "      <td>$541,406,438</td>\n",
       "      <td>1</td>\n",
       "      <td>Detective Chinatown 2</td>\n",
       "      <td>1.0</td>\n",
       "      <td>16-Feb</td>\n",
       "      <td>9.0</td>\n",
       "      <td>121</td>\n",
       "      <td>2015.0</td>\n",
       "    </tr>\n",
       "    <tr>\n",
       "      <th>4</th>\n",
       "      <td>NaN</td>\n",
       "      <td>China</td>\n",
       "      <td>NaN</td>\n",
       "      <td>Comedy</td>\n",
       "      <td>0</td>\n",
       "      <td>$541,406,438</td>\n",
       "      <td>1</td>\n",
       "      <td>Detective Chinatown 2</td>\n",
       "      <td>6.0</td>\n",
       "      <td>16-Feb</td>\n",
       "      <td>9.0</td>\n",
       "      <td>121</td>\n",
       "      <td>2015.0</td>\n",
       "    </tr>\n",
       "  </tbody>\n",
       "</table>\n",
       "</div>"
      ],
      "text/plain": [
       "                      Budget Country Distributor     Genre  GoldRelease  \\\n",
       "0  $70,000,000\\n               China         NaN     Drama            0   \n",
       "1  $70,000,000\\n               China         NaN  Thriller            0   \n",
       "2  $70,000,000\\n               China         NaN       War            0   \n",
       "3                        NaN   China         NaN    Action            0   \n",
       "4                        NaN   China         NaN    Comedy            0   \n",
       "\n",
       "           Gross  IssueDataOfGoldenWeek              MovieName  Number  \\\n",
       "0  $575,849,199                       1      Operation Red Sea    12.0   \n",
       "1  $575,849,199                       1      Operation Red Sea    24.0   \n",
       "2  $575,849,199                       1      Operation Red Sea    26.0   \n",
       "3  $541,406,438                       1  Detective Chinatown 2     1.0   \n",
       "4  $541,406,438                       1  Detective Chinatown 2     6.0   \n",
       "\n",
       "  Release  ReleaseInfo Runtime    year  \n",
       "0  16-Feb         11.0     142  2018.0  \n",
       "1  16-Feb         11.0     142  2018.0  \n",
       "2  16-Feb         11.0     142  2018.0  \n",
       "3  16-Feb          9.0     121  2015.0  \n",
       "4  16-Feb          9.0     121  2015.0  "
      ]
     },
     "execution_count": 580,
     "metadata": {},
     "output_type": "execute_result"
    }
   ],
   "source": [
    "data.head()"
   ]
  },
  {
   "cell_type": "markdown",
   "metadata": {},
   "source": [
    "### data cleaning and parsering\n",
    "- 0. how many N/A data\n",
    "- 1. deal with N/A\n",
    "- 2. year and release date parse into time style\n",
    "- 3. budget, gross, ReleaseInfo to integer"
   ]
  },
  {
   "cell_type": "code",
   "execution_count": 581,
   "metadata": {},
   "outputs": [
    {
     "data": {
      "text/plain": [
       "Budget                   352\n",
       "Country                   58\n",
       "Distributor              601\n",
       "Genre                     39\n",
       "GoldRelease                0\n",
       "Gross                      0\n",
       "IssueDataOfGoldenWeek      0\n",
       "MovieName                  0\n",
       "Number                    45\n",
       "Release                    0\n",
       "ReleaseInfo               21\n",
       "Runtime                   73\n",
       "year                       5\n",
       "dtype: int64"
      ]
     },
     "execution_count": 581,
     "metadata": {},
     "output_type": "execute_result"
    }
   ],
   "source": [
    "data.isna().sum()\n",
    "#1. drop any rows where budget=nan drop any rows Genre=0\n",
    "#2. drop the column distributor\n",
    "#4. match the rows where Number=0\n",
    "#5. match the rows where ReleaseInfo=0\n",
    "#6. match the rows where year=0"
   ]
  },
  {
   "cell_type": "code",
   "execution_count": 582,
   "metadata": {},
   "outputs": [],
   "source": [
    "data.Runtime=data.Runtime.fillna(method='bfill')"
   ]
  },
  {
   "cell_type": "code",
   "execution_count": 583,
   "metadata": {},
   "outputs": [],
   "source": [
    "data=data.dropna(subset=['Genre','Budget'])\n",
    "data=data.drop(axis=1,labels='Distributor')"
   ]
  },
  {
   "cell_type": "code",
   "execution_count": 584,
   "metadata": {},
   "outputs": [
    {
     "data": {
      "text/html": [
       "<div>\n",
       "<style scoped>\n",
       "    .dataframe tbody tr th:only-of-type {\n",
       "        vertical-align: middle;\n",
       "    }\n",
       "\n",
       "    .dataframe tbody tr th {\n",
       "        vertical-align: top;\n",
       "    }\n",
       "\n",
       "    .dataframe thead th {\n",
       "        text-align: right;\n",
       "    }\n",
       "</style>\n",
       "<table border=\"1\" class=\"dataframe\">\n",
       "  <thead>\n",
       "    <tr style=\"text-align: right;\">\n",
       "      <th></th>\n",
       "      <th>Budget</th>\n",
       "      <th>Country</th>\n",
       "      <th>Genre</th>\n",
       "      <th>GoldRelease</th>\n",
       "      <th>Gross</th>\n",
       "      <th>IssueDataOfGoldenWeek</th>\n",
       "      <th>MovieName</th>\n",
       "      <th>Number</th>\n",
       "      <th>Release</th>\n",
       "      <th>ReleaseInfo</th>\n",
       "      <th>Runtime</th>\n",
       "      <th>year</th>\n",
       "    </tr>\n",
       "  </thead>\n",
       "  <tbody>\n",
       "    <tr>\n",
       "      <th>40</th>\n",
       "      <td>$120,000,000</td>\n",
       "      <td>NaN</td>\n",
       "      <td>Action</td>\n",
       "      <td>0</td>\n",
       "      <td>$156,381,897</td>\n",
       "      <td>2</td>\n",
       "      <td>Rampage (2018)</td>\n",
       "      <td>1.0</td>\n",
       "      <td>13-Apr</td>\n",
       "      <td>9.0</td>\n",
       "      <td>113</td>\n",
       "      <td>2018.0</td>\n",
       "    </tr>\n",
       "    <tr>\n",
       "      <th>41</th>\n",
       "      <td>$120,000,000</td>\n",
       "      <td>NaN</td>\n",
       "      <td>Adventure</td>\n",
       "      <td>0</td>\n",
       "      <td>$156,381,897</td>\n",
       "      <td>2</td>\n",
       "      <td>Rampage (2018)</td>\n",
       "      <td>2.0</td>\n",
       "      <td>13-Apr</td>\n",
       "      <td>9.0</td>\n",
       "      <td>113</td>\n",
       "      <td>2018.0</td>\n",
       "    </tr>\n",
       "    <tr>\n",
       "      <th>42</th>\n",
       "      <td>$120,000,000</td>\n",
       "      <td>NaN</td>\n",
       "      <td>Sci-Fi</td>\n",
       "      <td>0</td>\n",
       "      <td>$156,381,897</td>\n",
       "      <td>2</td>\n",
       "      <td>Rampage (2018)</td>\n",
       "      <td>21.0</td>\n",
       "      <td>13-Apr</td>\n",
       "      <td>9.0</td>\n",
       "      <td>113</td>\n",
       "      <td>2018.0</td>\n",
       "    </tr>\n",
       "    <tr>\n",
       "      <th>52</th>\n",
       "      <td>$15,000,000</td>\n",
       "      <td>NaN</td>\n",
       "      <td>Drama</td>\n",
       "      <td>0</td>\n",
       "      <td>$119,035,157</td>\n",
       "      <td>1</td>\n",
       "      <td>Forever Young (2018)</td>\n",
       "      <td>12.0</td>\n",
       "      <td>12-Jan</td>\n",
       "      <td>10.0</td>\n",
       "      <td>138</td>\n",
       "      <td>2018.0</td>\n",
       "    </tr>\n",
       "    <tr>\n",
       "      <th>70</th>\n",
       "      <td>42,857,143</td>\n",
       "      <td>NaN</td>\n",
       "      <td>Action</td>\n",
       "      <td>0</td>\n",
       "      <td>$90,524,286</td>\n",
       "      <td>4</td>\n",
       "      <td>Shadow (2018)</td>\n",
       "      <td>1.0</td>\n",
       "      <td>30-Sep</td>\n",
       "      <td>8.0</td>\n",
       "      <td>132</td>\n",
       "      <td>2018.0</td>\n",
       "    </tr>\n",
       "    <tr>\n",
       "      <th>71</th>\n",
       "      <td>CNY 300,000,000</td>\n",
       "      <td>NaN</td>\n",
       "      <td>Drama</td>\n",
       "      <td>0</td>\n",
       "      <td>$90,524,286</td>\n",
       "      <td>4</td>\n",
       "      <td>Shadow (2018)</td>\n",
       "      <td>12.0</td>\n",
       "      <td>30-Sep</td>\n",
       "      <td>8.0</td>\n",
       "      <td>132</td>\n",
       "      <td>2018.0</td>\n",
       "    </tr>\n",
       "    <tr>\n",
       "      <th>72</th>\n",
       "      <td>CNY 300,000,000</td>\n",
       "      <td>NaN</td>\n",
       "      <td>History</td>\n",
       "      <td>0</td>\n",
       "      <td>$90,524,286</td>\n",
       "      <td>4</td>\n",
       "      <td>Shadow (2018)</td>\n",
       "      <td>15.0</td>\n",
       "      <td>30-Sep</td>\n",
       "      <td>8.0</td>\n",
       "      <td>132</td>\n",
       "      <td>2018.0</td>\n",
       "    </tr>\n",
       "    <tr>\n",
       "      <th>442</th>\n",
       "      <td>$20,000,000\\n</td>\n",
       "      <td>China</td>\n",
       "      <td>Drama</td>\n",
       "      <td>0</td>\n",
       "      <td>$20,660,000</td>\n",
       "      <td>4</td>\n",
       "      <td>Lady of the Dynasty</td>\n",
       "      <td>12.0</td>\n",
       "      <td>30-Jul</td>\n",
       "      <td>NaN</td>\n",
       "      <td>122</td>\n",
       "      <td>2015.0</td>\n",
       "    </tr>\n",
       "    <tr>\n",
       "      <th>443</th>\n",
       "      <td>$20,000,000\\n</td>\n",
       "      <td>China</td>\n",
       "      <td>History</td>\n",
       "      <td>0</td>\n",
       "      <td>$20,660,000</td>\n",
       "      <td>4</td>\n",
       "      <td>Lady of the Dynasty</td>\n",
       "      <td>15.0</td>\n",
       "      <td>30-Jul</td>\n",
       "      <td>NaN</td>\n",
       "      <td>122</td>\n",
       "      <td>2015.0</td>\n",
       "    </tr>\n",
       "    <tr>\n",
       "      <th>444</th>\n",
       "      <td>$20,000,000\\n</td>\n",
       "      <td>China</td>\n",
       "      <td>Romance</td>\n",
       "      <td>0</td>\n",
       "      <td>$20,660,000</td>\n",
       "      <td>4</td>\n",
       "      <td>Lady of the Dynasty</td>\n",
       "      <td>20.0</td>\n",
       "      <td>30-Jul</td>\n",
       "      <td>NaN</td>\n",
       "      <td>122</td>\n",
       "      <td>2015.0</td>\n",
       "    </tr>\n",
       "    <tr>\n",
       "      <th>602</th>\n",
       "      <td>$25,000,000</td>\n",
       "      <td>China</td>\n",
       "      <td>Drama</td>\n",
       "      <td>0</td>\n",
       "      <td>$84,089,891</td>\n",
       "      <td>1</td>\n",
       "      <td>Legend of the Demon Cat</td>\n",
       "      <td>12.0</td>\n",
       "      <td>22-Dec</td>\n",
       "      <td>NaN</td>\n",
       "      <td>129</td>\n",
       "      <td>2017.0</td>\n",
       "    </tr>\n",
       "    <tr>\n",
       "      <th>748</th>\n",
       "      <td>$47,000,000</td>\n",
       "      <td>NaN</td>\n",
       "      <td>Drama</td>\n",
       "      <td>0</td>\n",
       "      <td>$15,884,890</td>\n",
       "      <td>1</td>\n",
       "      <td>Arrival</td>\n",
       "      <td>12.0</td>\n",
       "      <td>20-Jan</td>\n",
       "      <td>5.0</td>\n",
       "      <td>116</td>\n",
       "      <td>2016.0</td>\n",
       "    </tr>\n",
       "    <tr>\n",
       "      <th>863</th>\n",
       "      <td>$40,000,000</td>\n",
       "      <td>NaN</td>\n",
       "      <td>Biography</td>\n",
       "      <td>0</td>\n",
       "      <td>$62,124,942</td>\n",
       "      <td>1</td>\n",
       "      <td>Hacksaw Ridge</td>\n",
       "      <td>NaN</td>\n",
       "      <td>8-Dec</td>\n",
       "      <td>9.0</td>\n",
       "      <td>139</td>\n",
       "      <td>2016.0</td>\n",
       "    </tr>\n",
       "    <tr>\n",
       "      <th>872</th>\n",
       "      <td>$135,000,000</td>\n",
       "      <td>USA</td>\n",
       "      <td>Western</td>\n",
       "      <td>0</td>\n",
       "      <td>$58,684,119</td>\n",
       "      <td>2</td>\n",
       "      <td>The Revenant</td>\n",
       "      <td>NaN</td>\n",
       "      <td>18-Mar</td>\n",
       "      <td>5.0</td>\n",
       "      <td>156</td>\n",
       "      <td>2015.0</td>\n",
       "    </tr>\n",
       "    <tr>\n",
       "      <th>905</th>\n",
       "      <td>$150,000,000</td>\n",
       "      <td>USA</td>\n",
       "      <td>Musical</td>\n",
       "      <td>1</td>\n",
       "      <td>$32,797,208</td>\n",
       "      <td>5</td>\n",
       "      <td>Moana</td>\n",
       "      <td>NaN</td>\n",
       "      <td>25-Nov</td>\n",
       "      <td>9.0</td>\n",
       "      <td>107</td>\n",
       "      <td>2016.0</td>\n",
       "    </tr>\n",
       "  </tbody>\n",
       "</table>\n",
       "</div>"
      ],
      "text/plain": [
       "                        Budget Country      Genre  GoldRelease          Gross  \\\n",
       "40               $120,000,000      NaN     Action            0  $156,381,897    \n",
       "41               $120,000,000      NaN  Adventure            0  $156,381,897    \n",
       "42               $120,000,000      NaN     Sci-Fi            0  $156,381,897    \n",
       "52                $15,000,000      NaN      Drama            0  $119,035,157    \n",
       "70                  42,857,143     NaN     Action            0   $90,524,286    \n",
       "71             CNY 300,000,000     NaN      Drama            0   $90,524,286    \n",
       "72             CNY 300,000,000     NaN    History            0   $90,524,286    \n",
       "442  $20,000,000\\n               China      Drama            0   $20,660,000    \n",
       "443  $20,000,000\\n               China    History            0   $20,660,000    \n",
       "444  $20,000,000\\n               China    Romance            0   $20,660,000    \n",
       "602               $25,000,000    China      Drama            0   $84,089,891    \n",
       "748               $47,000,000      NaN      Drama            0   $15,884,890    \n",
       "863               $40,000,000      NaN  Biography            0   $62,124,942    \n",
       "872              $135,000,000      USA    Western            0   $58,684,119    \n",
       "905              $150,000,000      USA    Musical            1   $32,797,208    \n",
       "\n",
       "     IssueDataOfGoldenWeek                MovieName  Number Release  \\\n",
       "40                       2           Rampage (2018)     1.0  13-Apr   \n",
       "41                       2           Rampage (2018)     2.0  13-Apr   \n",
       "42                       2           Rampage (2018)    21.0  13-Apr   \n",
       "52                       1     Forever Young (2018)    12.0  12-Jan   \n",
       "70                       4            Shadow (2018)     1.0  30-Sep   \n",
       "71                       4            Shadow (2018)    12.0  30-Sep   \n",
       "72                       4            Shadow (2018)    15.0  30-Sep   \n",
       "442                      4      Lady of the Dynasty    12.0  30-Jul   \n",
       "443                      4      Lady of the Dynasty    15.0  30-Jul   \n",
       "444                      4      Lady of the Dynasty    20.0  30-Jul   \n",
       "602                      1  Legend of the Demon Cat    12.0  22-Dec   \n",
       "748                      1                  Arrival    12.0  20-Jan   \n",
       "863                      1            Hacksaw Ridge     NaN   8-Dec   \n",
       "872                      2             The Revenant     NaN  18-Mar   \n",
       "905                      5                    Moana     NaN  25-Nov   \n",
       "\n",
       "     ReleaseInfo Runtime    year  \n",
       "40           9.0     113  2018.0  \n",
       "41           9.0     113  2018.0  \n",
       "42           9.0     113  2018.0  \n",
       "52          10.0     138  2018.0  \n",
       "70           8.0     132  2018.0  \n",
       "71           8.0     132  2018.0  \n",
       "72           8.0     132  2018.0  \n",
       "442          NaN     122  2015.0  \n",
       "443          NaN     122  2015.0  \n",
       "444          NaN     122  2015.0  \n",
       "602          NaN     129  2017.0  \n",
       "748          5.0     116  2016.0  \n",
       "863          9.0     139  2016.0  \n",
       "872          5.0     156  2015.0  \n",
       "905          9.0     107  2016.0  "
      ]
     },
     "execution_count": 584,
     "metadata": {},
     "output_type": "execute_result"
    }
   ],
   "source": [
    "data[pd.isnull(data).any(axis=1)]"
   ]
  },
  {
   "cell_type": "code",
   "execution_count": 585,
   "metadata": {},
   "outputs": [],
   "source": [
    "data.loc[[442,443,444],'ReleaseInfo']=2\n",
    "data.loc[602,'ReleaseInfo']=9"
   ]
  },
  {
   "cell_type": "code",
   "execution_count": 586,
   "metadata": {
    "scrolled": false
   },
   "outputs": [],
   "source": [
    "data.loc[905,'Number']=18"
   ]
  },
  {
   "cell_type": "code",
   "execution_count": 587,
   "metadata": {},
   "outputs": [],
   "source": [
    "data.loc[863,'Number']=4\n",
    "data.loc[872,'Number']=26"
   ]
  },
  {
   "cell_type": "code",
   "execution_count": 588,
   "metadata": {},
   "outputs": [
    {
     "data": {
      "text/plain": [
       "Budget                   0\n",
       "Country                  9\n",
       "Genre                    0\n",
       "GoldRelease              0\n",
       "Gross                    0\n",
       "IssueDataOfGoldenWeek    0\n",
       "MovieName                0\n",
       "Number                   0\n",
       "Release                  0\n",
       "ReleaseInfo              0\n",
       "Runtime                  0\n",
       "year                     0\n",
       "dtype: int64"
      ]
     },
     "execution_count": 588,
     "metadata": {},
     "output_type": "execute_result"
    }
   ],
   "source": [
    "data.isna().sum()\n",
    "##now we finish the cleaning"
   ]
  },
  {
   "cell_type": "markdown",
   "metadata": {},
   "source": [
    "- 3.parser time type data into time for further time-series analysis\n",
    "- 4.parser budget, gross, Runtime into integer"
   ]
  },
  {
   "cell_type": "code",
   "execution_count": 589,
   "metadata": {},
   "outputs": [],
   "source": [
    "data=data.reset_index().iloc[:,1:]"
   ]
  },
  {
   "cell_type": "code",
   "execution_count": 590,
   "metadata": {},
   "outputs": [],
   "source": [
    "a=data.Budget.replace(regex=r'^\\$', value='')\n",
    "a=a.replace(regex=r'\\n',value='')\n",
    "a=a.replace(regex=[r'\\s',r'\\n',r',',r'^\\$'],value='')"
   ]
  },
  {
   "cell_type": "code",
   "execution_count": 591,
   "metadata": {},
   "outputs": [],
   "source": [
    "a=data.Budget.replace(regex=[r'\\s',r'\\n',r',',r'^\\$'],value='')"
   ]
  },
  {
   "cell_type": "code",
   "execution_count": null,
   "metadata": {},
   "outputs": [],
   "source": []
  },
  {
   "cell_type": "code",
   "execution_count": null,
   "metadata": {},
   "outputs": [],
   "source": []
  },
  {
   "cell_type": "code",
   "execution_count": 592,
   "metadata": {},
   "outputs": [],
   "source": [
    "for i in range(len(a)):\n",
    "    if bool(re.match('^[0-9]',a[i]))==False:\n",
    "        money=a[i]\n",
    "        if 'CNY' in money :a[i]= str(int(re.findall(r'[0-9]+$',money)[0])*0.15)\n",
    "        if 'euro' in money:a[i]=str((int(re.findall(r'[0-9]+$',money)[0])*1.13))\n",
    "        if 'HKD' in money:a[i]=str(int(re.findall(r'[0-9]+$',money)[0])*0.127)\n",
    "        if 'THB' in money:a[i]=str(int(re.findall(r'[0-9]+$',money)[0])*0.03)\n",
    "        if 'INR' in money:a[i]=str(int(re.findall(r'[0-9]+$',money)[0])*0.013)\n",
    "        if 'pound' in money:a[i]=str(int(re.findall(r'[0-9]+$',money)[0])*1.29)\n",
    "        if '√õ' in money:a[i]=str(int(re.findall(r'[0-9]+$',money)[0]))\n",
    "        else: pass   \n",
    "        "
   ]
  },
  {
   "cell_type": "code",
   "execution_count": null,
   "metadata": {},
   "outputs": [],
   "source": []
  },
  {
   "cell_type": "code",
   "execution_count": 593,
   "metadata": {},
   "outputs": [],
   "source": [
    "data.Budget=a"
   ]
  },
  {
   "cell_type": "code",
   "execution_count": 594,
   "metadata": {},
   "outputs": [
    {
     "data": {
      "text/html": [
       "<div>\n",
       "<style scoped>\n",
       "    .dataframe tbody tr th:only-of-type {\n",
       "        vertical-align: middle;\n",
       "    }\n",
       "\n",
       "    .dataframe tbody tr th {\n",
       "        vertical-align: top;\n",
       "    }\n",
       "\n",
       "    .dataframe thead th {\n",
       "        text-align: right;\n",
       "    }\n",
       "</style>\n",
       "<table border=\"1\" class=\"dataframe\">\n",
       "  <thead>\n",
       "    <tr style=\"text-align: right;\">\n",
       "      <th></th>\n",
       "      <th>Budget</th>\n",
       "      <th>Country</th>\n",
       "      <th>Genre</th>\n",
       "      <th>GoldRelease</th>\n",
       "      <th>Gross</th>\n",
       "      <th>IssueDataOfGoldenWeek</th>\n",
       "      <th>MovieName</th>\n",
       "      <th>Number</th>\n",
       "      <th>Release</th>\n",
       "      <th>ReleaseInfo</th>\n",
       "      <th>Runtime</th>\n",
       "      <th>year</th>\n",
       "    </tr>\n",
       "  </thead>\n",
       "  <tbody>\n",
       "    <tr>\n",
       "      <th>0</th>\n",
       "      <td>70000000</td>\n",
       "      <td>China</td>\n",
       "      <td>Drama</td>\n",
       "      <td>0</td>\n",
       "      <td>$575,849,199</td>\n",
       "      <td>1</td>\n",
       "      <td>Operation Red Sea</td>\n",
       "      <td>12.0</td>\n",
       "      <td>16-Feb</td>\n",
       "      <td>11.0</td>\n",
       "      <td>142</td>\n",
       "      <td>2018.0</td>\n",
       "    </tr>\n",
       "    <tr>\n",
       "      <th>1</th>\n",
       "      <td>70000000</td>\n",
       "      <td>China</td>\n",
       "      <td>Thriller</td>\n",
       "      <td>0</td>\n",
       "      <td>$575,849,199</td>\n",
       "      <td>1</td>\n",
       "      <td>Operation Red Sea</td>\n",
       "      <td>24.0</td>\n",
       "      <td>16-Feb</td>\n",
       "      <td>11.0</td>\n",
       "      <td>142</td>\n",
       "      <td>2018.0</td>\n",
       "    </tr>\n",
       "    <tr>\n",
       "      <th>2</th>\n",
       "      <td>70000000</td>\n",
       "      <td>China</td>\n",
       "      <td>War</td>\n",
       "      <td>0</td>\n",
       "      <td>$575,849,199</td>\n",
       "      <td>1</td>\n",
       "      <td>Operation Red Sea</td>\n",
       "      <td>26.0</td>\n",
       "      <td>16-Feb</td>\n",
       "      <td>11.0</td>\n",
       "      <td>142</td>\n",
       "      <td>2018.0</td>\n",
       "    </tr>\n",
       "    <tr>\n",
       "      <th>3</th>\n",
       "      <td>15000000</td>\n",
       "      <td>China</td>\n",
       "      <td>Comedy</td>\n",
       "      <td>0</td>\n",
       "      <td>$451,176,639</td>\n",
       "      <td>4</td>\n",
       "      <td>Dying To Survive</td>\n",
       "      <td>6.0</td>\n",
       "      <td>5-Jul</td>\n",
       "      <td>14.0</td>\n",
       "      <td>117</td>\n",
       "      <td>2018.0</td>\n",
       "    </tr>\n",
       "    <tr>\n",
       "      <th>4</th>\n",
       "      <td>15000000</td>\n",
       "      <td>China</td>\n",
       "      <td>Drama</td>\n",
       "      <td>0</td>\n",
       "      <td>$451,176,639</td>\n",
       "      <td>4</td>\n",
       "      <td>Dying To Survive</td>\n",
       "      <td>12.0</td>\n",
       "      <td>5-Jul</td>\n",
       "      <td>14.0</td>\n",
       "      <td>117</td>\n",
       "      <td>2018.0</td>\n",
       "    </tr>\n",
       "  </tbody>\n",
       "</table>\n",
       "</div>"
      ],
      "text/plain": [
       "     Budget Country     Genre  GoldRelease          Gross  \\\n",
       "0  70000000   China     Drama            0  $575,849,199    \n",
       "1  70000000   China  Thriller            0  $575,849,199    \n",
       "2  70000000   China       War            0  $575,849,199    \n",
       "3  15000000   China    Comedy            0  $451,176,639    \n",
       "4  15000000   China     Drama            0  $451,176,639    \n",
       "\n",
       "   IssueDataOfGoldenWeek          MovieName  Number Release  ReleaseInfo  \\\n",
       "0                      1  Operation Red Sea    12.0  16-Feb         11.0   \n",
       "1                      1  Operation Red Sea    24.0  16-Feb         11.0   \n",
       "2                      1  Operation Red Sea    26.0  16-Feb         11.0   \n",
       "3                      4   Dying To Survive     6.0   5-Jul         14.0   \n",
       "4                      4   Dying To Survive    12.0   5-Jul         14.0   \n",
       "\n",
       "  Runtime    year  \n",
       "0     142  2018.0  \n",
       "1     142  2018.0  \n",
       "2     142  2018.0  \n",
       "3     117  2018.0  \n",
       "4     117  2018.0  "
      ]
     },
     "execution_count": 594,
     "metadata": {},
     "output_type": "execute_result"
    }
   ],
   "source": [
    "data.head()"
   ]
  },
  {
   "cell_type": "code",
   "execution_count": 595,
   "metadata": {},
   "outputs": [],
   "source": [
    "gross=data.Gross.replace(regex=[r'\\s',r'\\n',r',',r'^\\$',r'^√õ'],value='')"
   ]
  },
  {
   "cell_type": "code",
   "execution_count": 596,
   "metadata": {},
   "outputs": [],
   "source": [
    "data.Gross=gross"
   ]
  },
  {
   "cell_type": "code",
   "execution_count": 597,
   "metadata": {},
   "outputs": [
    {
     "data": {
      "text/html": [
       "<div>\n",
       "<style scoped>\n",
       "    .dataframe tbody tr th:only-of-type {\n",
       "        vertical-align: middle;\n",
       "    }\n",
       "\n",
       "    .dataframe tbody tr th {\n",
       "        vertical-align: top;\n",
       "    }\n",
       "\n",
       "    .dataframe thead th {\n",
       "        text-align: right;\n",
       "    }\n",
       "</style>\n",
       "<table border=\"1\" class=\"dataframe\">\n",
       "  <thead>\n",
       "    <tr style=\"text-align: right;\">\n",
       "      <th></th>\n",
       "      <th>Budget</th>\n",
       "      <th>Country</th>\n",
       "      <th>Genre</th>\n",
       "      <th>GoldRelease</th>\n",
       "      <th>Gross</th>\n",
       "      <th>IssueDataOfGoldenWeek</th>\n",
       "      <th>MovieName</th>\n",
       "      <th>Number</th>\n",
       "      <th>Release</th>\n",
       "      <th>ReleaseInfo</th>\n",
       "      <th>Runtime</th>\n",
       "      <th>year</th>\n",
       "    </tr>\n",
       "  </thead>\n",
       "  <tbody>\n",
       "    <tr>\n",
       "      <th>0</th>\n",
       "      <td>70000000</td>\n",
       "      <td>China</td>\n",
       "      <td>Drama</td>\n",
       "      <td>0</td>\n",
       "      <td>575849199</td>\n",
       "      <td>1</td>\n",
       "      <td>Operation Red Sea</td>\n",
       "      <td>12.0</td>\n",
       "      <td>16-Feb</td>\n",
       "      <td>11.0</td>\n",
       "      <td>142</td>\n",
       "      <td>2018.0</td>\n",
       "    </tr>\n",
       "    <tr>\n",
       "      <th>1</th>\n",
       "      <td>70000000</td>\n",
       "      <td>China</td>\n",
       "      <td>Thriller</td>\n",
       "      <td>0</td>\n",
       "      <td>575849199</td>\n",
       "      <td>1</td>\n",
       "      <td>Operation Red Sea</td>\n",
       "      <td>24.0</td>\n",
       "      <td>16-Feb</td>\n",
       "      <td>11.0</td>\n",
       "      <td>142</td>\n",
       "      <td>2018.0</td>\n",
       "    </tr>\n",
       "    <tr>\n",
       "      <th>2</th>\n",
       "      <td>70000000</td>\n",
       "      <td>China</td>\n",
       "      <td>War</td>\n",
       "      <td>0</td>\n",
       "      <td>575849199</td>\n",
       "      <td>1</td>\n",
       "      <td>Operation Red Sea</td>\n",
       "      <td>26.0</td>\n",
       "      <td>16-Feb</td>\n",
       "      <td>11.0</td>\n",
       "      <td>142</td>\n",
       "      <td>2018.0</td>\n",
       "    </tr>\n",
       "    <tr>\n",
       "      <th>3</th>\n",
       "      <td>15000000</td>\n",
       "      <td>China</td>\n",
       "      <td>Comedy</td>\n",
       "      <td>0</td>\n",
       "      <td>451176639</td>\n",
       "      <td>4</td>\n",
       "      <td>Dying To Survive</td>\n",
       "      <td>6.0</td>\n",
       "      <td>5-Jul</td>\n",
       "      <td>14.0</td>\n",
       "      <td>117</td>\n",
       "      <td>2018.0</td>\n",
       "    </tr>\n",
       "    <tr>\n",
       "      <th>4</th>\n",
       "      <td>15000000</td>\n",
       "      <td>China</td>\n",
       "      <td>Drama</td>\n",
       "      <td>0</td>\n",
       "      <td>451176639</td>\n",
       "      <td>4</td>\n",
       "      <td>Dying To Survive</td>\n",
       "      <td>12.0</td>\n",
       "      <td>5-Jul</td>\n",
       "      <td>14.0</td>\n",
       "      <td>117</td>\n",
       "      <td>2018.0</td>\n",
       "    </tr>\n",
       "  </tbody>\n",
       "</table>\n",
       "</div>"
      ],
      "text/plain": [
       "     Budget Country     Genre  GoldRelease      Gross  IssueDataOfGoldenWeek  \\\n",
       "0  70000000   China     Drama            0  575849199                      1   \n",
       "1  70000000   China  Thriller            0  575849199                      1   \n",
       "2  70000000   China       War            0  575849199                      1   \n",
       "3  15000000   China    Comedy            0  451176639                      4   \n",
       "4  15000000   China     Drama            0  451176639                      4   \n",
       "\n",
       "           MovieName  Number Release  ReleaseInfo Runtime    year  \n",
       "0  Operation Red Sea    12.0  16-Feb         11.0     142  2018.0  \n",
       "1  Operation Red Sea    24.0  16-Feb         11.0     142  2018.0  \n",
       "2  Operation Red Sea    26.0  16-Feb         11.0     142  2018.0  \n",
       "3   Dying To Survive     6.0   5-Jul         14.0     117  2018.0  \n",
       "4   Dying To Survive    12.0   5-Jul         14.0     117  2018.0  "
      ]
     },
     "execution_count": 597,
     "metadata": {},
     "output_type": "execute_result"
    }
   ],
   "source": [
    "data.head()\n",
    "#budget and gross data prepared"
   ]
  },
  {
   "cell_type": "code",
   "execution_count": 598,
   "metadata": {},
   "outputs": [],
   "source": [
    "#prepare the release time\n",
    "data['Releasedate']=data.Release+'-'+data.year.astype(int).astype(str)"
   ]
  },
  {
   "cell_type": "code",
   "execution_count": 599,
   "metadata": {},
   "outputs": [],
   "source": [
    "data.Releasedate=pd.to_datetime(data.Releasedate,format='%d-%b-%Y')"
   ]
  },
  {
   "cell_type": "code",
   "execution_count": 600,
   "metadata": {},
   "outputs": [
    {
     "data": {
      "text/html": [
       "<div>\n",
       "<style scoped>\n",
       "    .dataframe tbody tr th:only-of-type {\n",
       "        vertical-align: middle;\n",
       "    }\n",
       "\n",
       "    .dataframe tbody tr th {\n",
       "        vertical-align: top;\n",
       "    }\n",
       "\n",
       "    .dataframe thead th {\n",
       "        text-align: right;\n",
       "    }\n",
       "</style>\n",
       "<table border=\"1\" class=\"dataframe\">\n",
       "  <thead>\n",
       "    <tr style=\"text-align: right;\">\n",
       "      <th></th>\n",
       "      <th>Budget</th>\n",
       "      <th>Country</th>\n",
       "      <th>Genre</th>\n",
       "      <th>GoldRelease</th>\n",
       "      <th>Gross</th>\n",
       "      <th>IssueDataOfGoldenWeek</th>\n",
       "      <th>MovieName</th>\n",
       "      <th>Number</th>\n",
       "      <th>Release</th>\n",
       "      <th>ReleaseInfo</th>\n",
       "      <th>Runtime</th>\n",
       "      <th>year</th>\n",
       "      <th>Releasedate</th>\n",
       "    </tr>\n",
       "  </thead>\n",
       "  <tbody>\n",
       "    <tr>\n",
       "      <th>0</th>\n",
       "      <td>70000000</td>\n",
       "      <td>China</td>\n",
       "      <td>Drama</td>\n",
       "      <td>0</td>\n",
       "      <td>575849199</td>\n",
       "      <td>1</td>\n",
       "      <td>Operation Red Sea</td>\n",
       "      <td>12.0</td>\n",
       "      <td>16-Feb</td>\n",
       "      <td>11.0</td>\n",
       "      <td>142</td>\n",
       "      <td>2018.0</td>\n",
       "      <td>2018-02-16</td>\n",
       "    </tr>\n",
       "    <tr>\n",
       "      <th>1</th>\n",
       "      <td>70000000</td>\n",
       "      <td>China</td>\n",
       "      <td>Thriller</td>\n",
       "      <td>0</td>\n",
       "      <td>575849199</td>\n",
       "      <td>1</td>\n",
       "      <td>Operation Red Sea</td>\n",
       "      <td>24.0</td>\n",
       "      <td>16-Feb</td>\n",
       "      <td>11.0</td>\n",
       "      <td>142</td>\n",
       "      <td>2018.0</td>\n",
       "      <td>2018-02-16</td>\n",
       "    </tr>\n",
       "    <tr>\n",
       "      <th>2</th>\n",
       "      <td>70000000</td>\n",
       "      <td>China</td>\n",
       "      <td>War</td>\n",
       "      <td>0</td>\n",
       "      <td>575849199</td>\n",
       "      <td>1</td>\n",
       "      <td>Operation Red Sea</td>\n",
       "      <td>26.0</td>\n",
       "      <td>16-Feb</td>\n",
       "      <td>11.0</td>\n",
       "      <td>142</td>\n",
       "      <td>2018.0</td>\n",
       "      <td>2018-02-16</td>\n",
       "    </tr>\n",
       "    <tr>\n",
       "      <th>3</th>\n",
       "      <td>15000000</td>\n",
       "      <td>China</td>\n",
       "      <td>Comedy</td>\n",
       "      <td>0</td>\n",
       "      <td>451176639</td>\n",
       "      <td>4</td>\n",
       "      <td>Dying To Survive</td>\n",
       "      <td>6.0</td>\n",
       "      <td>5-Jul</td>\n",
       "      <td>14.0</td>\n",
       "      <td>117</td>\n",
       "      <td>2018.0</td>\n",
       "      <td>2018-07-05</td>\n",
       "    </tr>\n",
       "    <tr>\n",
       "      <th>4</th>\n",
       "      <td>15000000</td>\n",
       "      <td>China</td>\n",
       "      <td>Drama</td>\n",
       "      <td>0</td>\n",
       "      <td>451176639</td>\n",
       "      <td>4</td>\n",
       "      <td>Dying To Survive</td>\n",
       "      <td>12.0</td>\n",
       "      <td>5-Jul</td>\n",
       "      <td>14.0</td>\n",
       "      <td>117</td>\n",
       "      <td>2018.0</td>\n",
       "      <td>2018-07-05</td>\n",
       "    </tr>\n",
       "  </tbody>\n",
       "</table>\n",
       "</div>"
      ],
      "text/plain": [
       "     Budget Country     Genre  GoldRelease      Gross  IssueDataOfGoldenWeek  \\\n",
       "0  70000000   China     Drama            0  575849199                      1   \n",
       "1  70000000   China  Thriller            0  575849199                      1   \n",
       "2  70000000   China       War            0  575849199                      1   \n",
       "3  15000000   China    Comedy            0  451176639                      4   \n",
       "4  15000000   China     Drama            0  451176639                      4   \n",
       "\n",
       "           MovieName  Number Release  ReleaseInfo Runtime    year Releasedate  \n",
       "0  Operation Red Sea    12.0  16-Feb         11.0     142  2018.0  2018-02-16  \n",
       "1  Operation Red Sea    24.0  16-Feb         11.0     142  2018.0  2018-02-16  \n",
       "2  Operation Red Sea    26.0  16-Feb         11.0     142  2018.0  2018-02-16  \n",
       "3   Dying To Survive     6.0   5-Jul         14.0     117  2018.0  2018-07-05  \n",
       "4   Dying To Survive    12.0   5-Jul         14.0     117  2018.0  2018-07-05  "
      ]
     },
     "execution_count": 600,
     "metadata": {},
     "output_type": "execute_result"
    }
   ],
   "source": [
    "data.head()"
   ]
  },
  {
   "cell_type": "code",
   "execution_count": 601,
   "metadata": {},
   "outputs": [],
   "source": [
    "data[['Budget','Gross']]=data[['Budget','Gross']].astype(float).astype(int)"
   ]
  },
  {
   "cell_type": "code",
   "execution_count": 602,
   "metadata": {},
   "outputs": [
    {
     "name": "stdout",
     "output_type": "stream",
     "text": [
      "Budget                   321000000\n",
      "Gross                    854248869\n",
      "Releasedate    2018-12-31 00:00:00\n",
      "dtype: object \n",
      "\n",
      " Budget                        1290\n",
      "Gross                      8713376\n",
      "Releasedate    1995-04-07 00:00:00\n",
      "dtype: object\n"
     ]
    }
   ],
   "source": [
    "print(data[['Budget','Gross','Releasedate']].max(),'\\n\\n',data[['Budget','Gross','Releasedate']].min())"
   ]
  },
  {
   "cell_type": "code",
   "execution_count": 603,
   "metadata": {},
   "outputs": [],
   "source": [
    "#here there is a outlier of Releasedate need to drop it"
   ]
  },
  {
   "cell_type": "code",
   "execution_count": 604,
   "metadata": {},
   "outputs": [],
   "source": [
    "data=data[data.Releasedate>'2013-01-01']"
   ]
  },
  {
   "cell_type": "code",
   "execution_count": 605,
   "metadata": {},
   "outputs": [
    {
     "name": "stdout",
     "output_type": "stream",
     "text": [
      "Budget                   321000000\n",
      "Gross                    854248869\n",
      "Releasedate    2018-12-31 00:00:00\n",
      "dtype: object \n",
      "\n",
      " Budget                        1290\n",
      "Gross                      8713376\n",
      "Releasedate    2014-01-04 00:00:00\n",
      "dtype: object\n"
     ]
    }
   ],
   "source": [
    "print(data[['Budget','Gross','Releasedate']].max(),'\\n\\n',data[['Budget','Gross','Releasedate']].min())"
   ]
  },
  {
   "cell_type": "code",
   "execution_count": 606,
   "metadata": {},
   "outputs": [
    {
     "data": {
      "text/html": [
       "<div>\n",
       "<style scoped>\n",
       "    .dataframe tbody tr th:only-of-type {\n",
       "        vertical-align: middle;\n",
       "    }\n",
       "\n",
       "    .dataframe tbody tr th {\n",
       "        vertical-align: top;\n",
       "    }\n",
       "\n",
       "    .dataframe thead th {\n",
       "        text-align: right;\n",
       "    }\n",
       "</style>\n",
       "<table border=\"1\" class=\"dataframe\">\n",
       "  <thead>\n",
       "    <tr style=\"text-align: right;\">\n",
       "      <th></th>\n",
       "      <th>Budget</th>\n",
       "      <th>Country</th>\n",
       "      <th>Genre</th>\n",
       "      <th>GoldRelease</th>\n",
       "      <th>Gross</th>\n",
       "      <th>IssueDataOfGoldenWeek</th>\n",
       "      <th>MovieName</th>\n",
       "      <th>Number</th>\n",
       "      <th>Release</th>\n",
       "      <th>ReleaseInfo</th>\n",
       "      <th>Runtime</th>\n",
       "      <th>year</th>\n",
       "      <th>Releasedate</th>\n",
       "    </tr>\n",
       "  </thead>\n",
       "  <tbody>\n",
       "    <tr>\n",
       "      <th>303</th>\n",
       "      <td>29700000</td>\n",
       "      <td>China</td>\n",
       "      <td>Drama</td>\n",
       "      <td>0</td>\n",
       "      <td>854248869</td>\n",
       "      <td>4</td>\n",
       "      <td>Wolf Warrior 2</td>\n",
       "      <td>12.0</td>\n",
       "      <td>27-Jul</td>\n",
       "      <td>14.0</td>\n",
       "      <td>123</td>\n",
       "      <td>2017.0</td>\n",
       "      <td>2017-07-27</td>\n",
       "    </tr>\n",
       "    <tr>\n",
       "      <th>304</th>\n",
       "      <td>29700000</td>\n",
       "      <td>China</td>\n",
       "      <td>Thriller</td>\n",
       "      <td>0</td>\n",
       "      <td>854248869</td>\n",
       "      <td>4</td>\n",
       "      <td>Wolf Warrior 2</td>\n",
       "      <td>24.0</td>\n",
       "      <td>27-Jul</td>\n",
       "      <td>14.0</td>\n",
       "      <td>123</td>\n",
       "      <td>2017.0</td>\n",
       "      <td>2017-07-27</td>\n",
       "    </tr>\n",
       "    <tr>\n",
       "      <th>305</th>\n",
       "      <td>29700000</td>\n",
       "      <td>China</td>\n",
       "      <td>War</td>\n",
       "      <td>0</td>\n",
       "      <td>854248869</td>\n",
       "      <td>4</td>\n",
       "      <td>Wolf Warrior 2</td>\n",
       "      <td>25.0</td>\n",
       "      <td>27-Jul</td>\n",
       "      <td>14.0</td>\n",
       "      <td>123</td>\n",
       "      <td>2017.0</td>\n",
       "      <td>2017-07-27</td>\n",
       "    </tr>\n",
       "  </tbody>\n",
       "</table>\n",
       "</div>"
      ],
      "text/plain": [
       "       Budget Country     Genre  GoldRelease      Gross  \\\n",
       "303  29700000   China     Drama            0  854248869   \n",
       "304  29700000   China  Thriller            0  854248869   \n",
       "305  29700000   China       War            0  854248869   \n",
       "\n",
       "     IssueDataOfGoldenWeek       MovieName  Number Release  ReleaseInfo  \\\n",
       "303                      4  Wolf Warrior 2    12.0  27-Jul         14.0   \n",
       "304                      4  Wolf Warrior 2    24.0  27-Jul         14.0   \n",
       "305                      4  Wolf Warrior 2    25.0  27-Jul         14.0   \n",
       "\n",
       "    Runtime    year Releasedate  \n",
       "303     123  2017.0  2017-07-27  \n",
       "304     123  2017.0  2017-07-27  \n",
       "305     123  2017.0  2017-07-27  "
      ]
     },
     "execution_count": 606,
     "metadata": {},
     "output_type": "execute_result"
    }
   ],
   "source": [
    "data.loc[data.Gross==data.Gross.max(),:]"
   ]
  },
  {
   "cell_type": "code",
   "execution_count": 607,
   "metadata": {},
   "outputs": [],
   "source": [
    "data.loc[[303,304,305],'Gross']=2721100"
   ]
  },
  {
   "cell_type": "code",
   "execution_count": 608,
   "metadata": {},
   "outputs": [
    {
     "data": {
      "text/html": [
       "<div>\n",
       "<style scoped>\n",
       "    .dataframe tbody tr th:only-of-type {\n",
       "        vertical-align: middle;\n",
       "    }\n",
       "\n",
       "    .dataframe tbody tr th {\n",
       "        vertical-align: top;\n",
       "    }\n",
       "\n",
       "    .dataframe thead th {\n",
       "        text-align: right;\n",
       "    }\n",
       "</style>\n",
       "<table border=\"1\" class=\"dataframe\">\n",
       "  <thead>\n",
       "    <tr style=\"text-align: right;\">\n",
       "      <th></th>\n",
       "      <th>Budget</th>\n",
       "      <th>Country</th>\n",
       "      <th>Genre</th>\n",
       "      <th>GoldRelease</th>\n",
       "      <th>Gross</th>\n",
       "      <th>IssueDataOfGoldenWeek</th>\n",
       "      <th>MovieName</th>\n",
       "      <th>Number</th>\n",
       "      <th>Release</th>\n",
       "      <th>ReleaseInfo</th>\n",
       "      <th>Runtime</th>\n",
       "      <th>year</th>\n",
       "      <th>Releasedate</th>\n",
       "    </tr>\n",
       "  </thead>\n",
       "  <tbody>\n",
       "    <tr>\n",
       "      <th>0</th>\n",
       "      <td>70000000</td>\n",
       "      <td>China</td>\n",
       "      <td>Drama</td>\n",
       "      <td>0</td>\n",
       "      <td>575849199</td>\n",
       "      <td>1</td>\n",
       "      <td>Operation Red Sea</td>\n",
       "      <td>12.0</td>\n",
       "      <td>16-Feb</td>\n",
       "      <td>11.0</td>\n",
       "      <td>142</td>\n",
       "      <td>2018.0</td>\n",
       "      <td>2018-02-16</td>\n",
       "    </tr>\n",
       "    <tr>\n",
       "      <th>1</th>\n",
       "      <td>70000000</td>\n",
       "      <td>China</td>\n",
       "      <td>Thriller</td>\n",
       "      <td>0</td>\n",
       "      <td>575849199</td>\n",
       "      <td>1</td>\n",
       "      <td>Operation Red Sea</td>\n",
       "      <td>24.0</td>\n",
       "      <td>16-Feb</td>\n",
       "      <td>11.0</td>\n",
       "      <td>142</td>\n",
       "      <td>2018.0</td>\n",
       "      <td>2018-02-16</td>\n",
       "    </tr>\n",
       "    <tr>\n",
       "      <th>2</th>\n",
       "      <td>70000000</td>\n",
       "      <td>China</td>\n",
       "      <td>War</td>\n",
       "      <td>0</td>\n",
       "      <td>575849199</td>\n",
       "      <td>1</td>\n",
       "      <td>Operation Red Sea</td>\n",
       "      <td>26.0</td>\n",
       "      <td>16-Feb</td>\n",
       "      <td>11.0</td>\n",
       "      <td>142</td>\n",
       "      <td>2018.0</td>\n",
       "      <td>2018-02-16</td>\n",
       "    </tr>\n",
       "  </tbody>\n",
       "</table>\n",
       "</div>"
      ],
      "text/plain": [
       "     Budget Country     Genre  GoldRelease      Gross  IssueDataOfGoldenWeek  \\\n",
       "0  70000000   China     Drama            0  575849199                      1   \n",
       "1  70000000   China  Thriller            0  575849199                      1   \n",
       "2  70000000   China       War            0  575849199                      1   \n",
       "\n",
       "           MovieName  Number Release  ReleaseInfo Runtime    year Releasedate  \n",
       "0  Operation Red Sea    12.0  16-Feb         11.0     142  2018.0  2018-02-16  \n",
       "1  Operation Red Sea    24.0  16-Feb         11.0     142  2018.0  2018-02-16  \n",
       "2  Operation Red Sea    26.0  16-Feb         11.0     142  2018.0  2018-02-16  "
      ]
     },
     "execution_count": 608,
     "metadata": {},
     "output_type": "execute_result"
    }
   ],
   "source": [
    "data.loc[data.Gross==data.Gross.max(),:]"
   ]
  },
  {
   "cell_type": "code",
   "execution_count": 609,
   "metadata": {},
   "outputs": [
    {
     "data": {
      "text/plain": [
       "Budget                            int64\n",
       "Country                          object\n",
       "Genre                            object\n",
       "GoldRelease                       int64\n",
       "Gross                             int64\n",
       "IssueDataOfGoldenWeek             int64\n",
       "MovieName                        object\n",
       "Number                          float64\n",
       "Release                          object\n",
       "ReleaseInfo                     float64\n",
       "Runtime                          object\n",
       "year                            float64\n",
       "Releasedate              datetime64[ns]\n",
       "dtype: object"
      ]
     },
     "execution_count": 609,
     "metadata": {},
     "output_type": "execute_result"
    }
   ],
   "source": [
    "data.dtypes"
   ]
  },
  {
   "cell_type": "markdown",
   "metadata": {},
   "source": [
    "- change Genre to str\n",
    "- change Number to str\n",
    "- change GoldRelease to str\n",
    "- change IssueDataOfGoldenWeek to str\n",
    "- change movie Name to str\n",
    "- change ReleaseInfo to int\n",
    "- change Runtime to int"
   ]
  },
  {
   "cell_type": "code",
   "execution_count": 610,
   "metadata": {},
   "outputs": [],
   "source": [
    "data[['Genre','Number','GoldRelease','IssueDataOfGoldenWeek','MovieName']]=data[['Genre','Number','GoldRelease','IssueDataOfGoldenWeek','MovieName']].astype(str)"
   ]
  },
  {
   "cell_type": "code",
   "execution_count": 611,
   "metadata": {},
   "outputs": [
    {
     "data": {
      "text/plain": [
       "Budget                            int64\n",
       "Country                          object\n",
       "Genre                            object\n",
       "GoldRelease                      object\n",
       "Gross                             int64\n",
       "IssueDataOfGoldenWeek            object\n",
       "MovieName                        object\n",
       "Number                           object\n",
       "Release                          object\n",
       "ReleaseInfo                     float64\n",
       "Runtime                          object\n",
       "year                            float64\n",
       "Releasedate              datetime64[ns]\n",
       "dtype: object"
      ]
     },
     "execution_count": 611,
     "metadata": {},
     "output_type": "execute_result"
    }
   ],
   "source": [
    "data.dtypes"
   ]
  },
  {
   "cell_type": "code",
   "execution_count": 612,
   "metadata": {},
   "outputs": [],
   "source": [
    "Runtime=data.Runtime\n",
    "data.Runtime=pd.to_numeric(Runtime,errors='corece')\n"
   ]
  },
  {
   "cell_type": "code",
   "execution_count": 613,
   "metadata": {},
   "outputs": [
    {
     "data": {
      "text/plain": [
       "Budget                            int64\n",
       "Country                          object\n",
       "Genre                            object\n",
       "GoldRelease                      object\n",
       "Gross                             int64\n",
       "IssueDataOfGoldenWeek            object\n",
       "MovieName                        object\n",
       "Number                           object\n",
       "Release                          object\n",
       "ReleaseInfo                     float64\n",
       "Runtime                         float64\n",
       "year                            float64\n",
       "Releasedate              datetime64[ns]\n",
       "dtype: object"
      ]
     },
     "execution_count": 613,
     "metadata": {},
     "output_type": "execute_result"
    }
   ],
   "source": [
    "data.dtypes"
   ]
  },
  {
   "cell_type": "code",
   "execution_count": 614,
   "metadata": {},
   "outputs": [],
   "source": [
    "data.Runtime=data.Runtime.fillna(method='ffill')"
   ]
  },
  {
   "cell_type": "code",
   "execution_count": 615,
   "metadata": {},
   "outputs": [
    {
     "data": {
      "text/plain": [
       "Budget                   0\n",
       "Country                  9\n",
       "Genre                    0\n",
       "GoldRelease              0\n",
       "Gross                    0\n",
       "IssueDataOfGoldenWeek    0\n",
       "MovieName                0\n",
       "Number                   0\n",
       "Release                  0\n",
       "ReleaseInfo              0\n",
       "Runtime                  0\n",
       "year                     0\n",
       "Releasedate              0\n",
       "dtype: int64"
      ]
     },
     "execution_count": 615,
     "metadata": {},
     "output_type": "execute_result"
    }
   ],
   "source": [
    "data.isnull().sum()"
   ]
  },
  {
   "cell_type": "markdown",
   "metadata": {},
   "source": [
    "**processing country**"
   ]
  },
  {
   "cell_type": "code",
   "execution_count": 621,
   "metadata": {},
   "outputs": [
    {
     "data": {
      "text/plain": [
       "USA          338\n",
       "China        118\n",
       "UK            75\n",
       "France        22\n",
       "Hong          12\n",
       "Japan         11\n",
       "India          9\n",
       "South          5\n",
       "Poland         5\n",
       "Germany        4\n",
       "Australia      4\n",
       "Taiwan         3\n",
       "New            2\n",
       "Spain          1\n",
       "Thailand       1\n",
       "Name: Country, dtype: int64"
      ]
     },
     "execution_count": 621,
     "metadata": {},
     "output_type": "execute_result"
    }
   ],
   "source": [
    "data.Country.value_counts()"
   ]
  },
  {
   "cell_type": "code",
   "execution_count": 625,
   "metadata": {},
   "outputs": [
    {
     "data": {
      "text/html": [
       "<div>\n",
       "<style scoped>\n",
       "    .dataframe tbody tr th:only-of-type {\n",
       "        vertical-align: middle;\n",
       "    }\n",
       "\n",
       "    .dataframe tbody tr th {\n",
       "        vertical-align: top;\n",
       "    }\n",
       "\n",
       "    .dataframe thead th {\n",
       "        text-align: right;\n",
       "    }\n",
       "</style>\n",
       "<table border=\"1\" class=\"dataframe\">\n",
       "  <thead>\n",
       "    <tr style=\"text-align: right;\">\n",
       "      <th></th>\n",
       "      <th>Budget</th>\n",
       "      <th>Country</th>\n",
       "      <th>Genre</th>\n",
       "      <th>GoldRelease</th>\n",
       "      <th>Gross</th>\n",
       "      <th>IssueDataOfGoldenWeek</th>\n",
       "      <th>MovieName</th>\n",
       "      <th>Number</th>\n",
       "      <th>Release</th>\n",
       "      <th>ReleaseInfo</th>\n",
       "      <th>Runtime</th>\n",
       "      <th>year</th>\n",
       "      <th>Releasedate</th>\n",
       "    </tr>\n",
       "  </thead>\n",
       "  <tbody>\n",
       "  </tbody>\n",
       "</table>\n",
       "</div>"
      ],
      "text/plain": [
       "Empty DataFrame\n",
       "Columns: [Budget, Country, Genre, GoldRelease, Gross, IssueDataOfGoldenWeek, MovieName, Number, Release, ReleaseInfo, Runtime, year, Releasedate]\n",
       "Index: []"
      ]
     },
     "execution_count": 625,
     "metadata": {},
     "output_type": "execute_result"
    }
   ],
   "source": [
    "data[data.Country.isnull()==True]"
   ]
  },
  {
   "cell_type": "code",
   "execution_count": 624,
   "metadata": {},
   "outputs": [],
   "source": [
    "data.loc[[25,26,27,470,553],'Country']='USA'\n",
    "data.loc[[36,52,53,54],'Country']='China'"
   ]
  },
  {
   "cell_type": "markdown",
   "metadata": {},
   "source": [
    "### EDA (Exploratory Data Analysis)\n",
    "Now we want to do some DATA EXPLORATION ANALYSIS\n",
    "- 1.time series analysis and distribution analysis (Gross)\n",
    "- 2.main feature distribution and box plot\n",
    "- 3.histogram of gross\n",
    "- 4.covariance analysis between features (catagorical variables)\n"
   ]
  },
  {
   "cell_type": "code",
   "execution_count": 626,
   "metadata": {},
   "outputs": [
    {
     "data": {
      "text/plain": [
       "<matplotlib.collections.PathCollection at 0x1a2a02d160>"
      ]
     },
     "execution_count": 626,
     "metadata": {},
     "output_type": "execute_result"
    },
    {
     "data": {
      "image/png": "[encoded data removed]",
      "text/plain": [
       "<Figure size 432x288 with 1 Axes>"
      ]
     },
     "metadata": {},
     "output_type": "display_data"
    }
   ],
   "source": [
    "plt.scatter(data.Releasedate,data.Gross)\n",
    "#there is no obviously time series"
   ]
  },
  {
   "cell_type": "code",
   "execution_count": 627,
   "metadata": {},
   "outputs": [
    {
     "data": {
      "text/plain": [
       "Index(['Budget', 'Country', 'Genre', 'GoldRelease', 'Gross',\n",
       "       'IssueDataOfGoldenWeek', 'MovieName', 'Number', 'Release',\n",
       "       'ReleaseInfo', 'Runtime', 'year', 'Releasedate'],\n",
       "      dtype='object')"
      ]
     },
     "execution_count": 627,
     "metadata": {},
     "output_type": "execute_result"
    }
   ],
   "source": [
    "data.columns"
   ]
  },
  {
   "cell_type": "code",
   "execution_count": 628,
   "metadata": {},
   "outputs": [
    {
     "data": {
      "text/html": [
       "<div>\n",
       "<style scoped>\n",
       "    .dataframe tbody tr th:only-of-type {\n",
       "        vertical-align: middle;\n",
       "    }\n",
       "\n",
       "    .dataframe tbody tr th {\n",
       "        vertical-align: top;\n",
       "    }\n",
       "\n",
       "    .dataframe thead th {\n",
       "        text-align: right;\n",
       "    }\n",
       "</style>\n",
       "<table border=\"1\" class=\"dataframe\">\n",
       "  <thead>\n",
       "    <tr style=\"text-align: right;\">\n",
       "      <th></th>\n",
       "      <th>Budget</th>\n",
       "      <th>Country</th>\n",
       "      <th>Genre</th>\n",
       "      <th>GoldRelease</th>\n",
       "      <th>Gross</th>\n",
       "      <th>IssueDataOfGoldenWeek</th>\n",
       "      <th>MovieName</th>\n",
       "      <th>Number</th>\n",
       "      <th>Release</th>\n",
       "      <th>ReleaseInfo</th>\n",
       "      <th>Runtime</th>\n",
       "      <th>year</th>\n",
       "      <th>Releasedate</th>\n",
       "    </tr>\n",
       "  </thead>\n",
       "  <tbody>\n",
       "    <tr>\n",
       "      <th>0</th>\n",
       "      <td>70000000</td>\n",
       "      <td>China</td>\n",
       "      <td>Drama</td>\n",
       "      <td>0</td>\n",
       "      <td>575849199</td>\n",
       "      <td>1</td>\n",
       "      <td>Operation Red Sea</td>\n",
       "      <td>12.0</td>\n",
       "      <td>16-Feb</td>\n",
       "      <td>11.0</td>\n",
       "      <td>142.0</td>\n",
       "      <td>2018.0</td>\n",
       "      <td>2018-02-16</td>\n",
       "    </tr>\n",
       "    <tr>\n",
       "      <th>1</th>\n",
       "      <td>70000000</td>\n",
       "      <td>China</td>\n",
       "      <td>Thriller</td>\n",
       "      <td>0</td>\n",
       "      <td>575849199</td>\n",
       "      <td>1</td>\n",
       "      <td>Operation Red Sea</td>\n",
       "      <td>24.0</td>\n",
       "      <td>16-Feb</td>\n",
       "      <td>11.0</td>\n",
       "      <td>142.0</td>\n",
       "      <td>2018.0</td>\n",
       "      <td>2018-02-16</td>\n",
       "    </tr>\n",
       "    <tr>\n",
       "      <th>2</th>\n",
       "      <td>70000000</td>\n",
       "      <td>China</td>\n",
       "      <td>War</td>\n",
       "      <td>0</td>\n",
       "      <td>575849199</td>\n",
       "      <td>1</td>\n",
       "      <td>Operation Red Sea</td>\n",
       "      <td>26.0</td>\n",
       "      <td>16-Feb</td>\n",
       "      <td>11.0</td>\n",
       "      <td>142.0</td>\n",
       "      <td>2018.0</td>\n",
       "      <td>2018-02-16</td>\n",
       "    </tr>\n",
       "    <tr>\n",
       "      <th>3</th>\n",
       "      <td>15000000</td>\n",
       "      <td>China</td>\n",
       "      <td>Comedy</td>\n",
       "      <td>0</td>\n",
       "      <td>451176639</td>\n",
       "      <td>4</td>\n",
       "      <td>Dying To Survive</td>\n",
       "      <td>6.0</td>\n",
       "      <td>5-Jul</td>\n",
       "      <td>14.0</td>\n",
       "      <td>117.0</td>\n",
       "      <td>2018.0</td>\n",
       "      <td>2018-07-05</td>\n",
       "    </tr>\n",
       "    <tr>\n",
       "      <th>4</th>\n",
       "      <td>15000000</td>\n",
       "      <td>China</td>\n",
       "      <td>Drama</td>\n",
       "      <td>0</td>\n",
       "      <td>451176639</td>\n",
       "      <td>4</td>\n",
       "      <td>Dying To Survive</td>\n",
       "      <td>12.0</td>\n",
       "      <td>5-Jul</td>\n",
       "      <td>14.0</td>\n",
       "      <td>117.0</td>\n",
       "      <td>2018.0</td>\n",
       "      <td>2018-07-05</td>\n",
       "    </tr>\n",
       "  </tbody>\n",
       "</table>\n",
       "</div>"
      ],
      "text/plain": [
       "     Budget Country     Genre GoldRelease      Gross IssueDataOfGoldenWeek  \\\n",
       "0  70000000   China     Drama           0  575849199                     1   \n",
       "1  70000000   China  Thriller           0  575849199                     1   \n",
       "2  70000000   China       War           0  575849199                     1   \n",
       "3  15000000   China    Comedy           0  451176639                     4   \n",
       "4  15000000   China     Drama           0  451176639                     4   \n",
       "\n",
       "           MovieName Number Release  ReleaseInfo  Runtime    year Releasedate  \n",
       "0  Operation Red Sea   12.0  16-Feb         11.0    142.0  2018.0  2018-02-16  \n",
       "1  Operation Red Sea   24.0  16-Feb         11.0    142.0  2018.0  2018-02-16  \n",
       "2  Operation Red Sea   26.0  16-Feb         11.0    142.0  2018.0  2018-02-16  \n",
       "3   Dying To Survive    6.0   5-Jul         14.0    117.0  2018.0  2018-07-05  \n",
       "4   Dying To Survive   12.0   5-Jul         14.0    117.0  2018.0  2018-07-05  "
      ]
     },
     "execution_count": 628,
     "metadata": {},
     "output_type": "execute_result"
    }
   ],
   "source": [
    "data.head()"
   ]
  },
  {
   "cell_type": "code",
   "execution_count": 629,
   "metadata": {},
   "outputs": [],
   "source": [
    "data['log_gross']=np.log(data.Gross)\n",
    "data['log_budget']=np.log(data.Budget)"
   ]
  },
  {
   "cell_type": "code",
   "execution_count": 630,
   "metadata": {},
   "outputs": [
    {
     "data": {
      "text/plain": [
       "<matplotlib.axes._subplots.AxesSubplot at 0x1a2a7c85c0>"
      ]
     },
     "execution_count": 630,
     "metadata": {},
     "output_type": "execute_result"
    },
    {
     "data": {
      "image/png": "[encoded data removed]",
      "text/plain": [
       "<Figure size 2160x1440 with 1 Axes>"
      ]
     },
     "metadata": {},
     "output_type": "display_data"
    }
   ],
   "source": [
    "f,ax=plt.subplots(figsize=(30, 20))\n",
    "sns.boxplot(x='log_gross',y='Genre',whis=\"range\",data=data,palette='vlag')\n",
    "sns.swarmplot(x=\"log_gross\", y=\"Genre\", data=data,\n",
    "              size=2, color=\".3\", linewidth=0)"
   ]
  },
  {
   "cell_type": "code",
   "execution_count": 631,
   "metadata": {},
   "outputs": [],
   "source": [
    "bound=np.percentile(data.Gross,[10,20,30,40,50,60,70,80,90,100])\n"
   ]
  },
  {
   "cell_type": "markdown",
   "metadata": {},
   "source": [
    "2.main features distributions"
   ]
  },
  {
   "cell_type": "code",
   "execution_count": 632,
   "metadata": {},
   "outputs": [],
   "source": [
    "one_hot_room = pd.get_dummies(data[['Number','GoldRelease','IssueDataOfGoldenWeek','Country']])"
   ]
  },
  {
   "cell_type": "code",
   "execution_count": 633,
   "metadata": {},
   "outputs": [
    {
     "data": {
      "text/html": [
       "<div>\n",
       "<style scoped>\n",
       "    .dataframe tbody tr th:only-of-type {\n",
       "        vertical-align: middle;\n",
       "    }\n",
       "\n",
       "    .dataframe tbody tr th {\n",
       "        vertical-align: top;\n",
       "    }\n",
       "\n",
       "    .dataframe thead th {\n",
       "        text-align: right;\n",
       "    }\n",
       "</style>\n",
       "<table border=\"1\" class=\"dataframe\">\n",
       "  <thead>\n",
       "    <tr style=\"text-align: right;\">\n",
       "      <th></th>\n",
       "      <th>Number_1.0</th>\n",
       "      <th>Number_11.0</th>\n",
       "      <th>Number_12.0</th>\n",
       "      <th>Number_13.0</th>\n",
       "      <th>Number_14.0</th>\n",
       "      <th>Number_15.0</th>\n",
       "      <th>Number_16.0</th>\n",
       "      <th>Number_18.0</th>\n",
       "      <th>Number_19.0</th>\n",
       "      <th>Number_2.0</th>\n",
       "      <th>...</th>\n",
       "      <th>Country_India</th>\n",
       "      <th>Country_Japan</th>\n",
       "      <th>Country_New</th>\n",
       "      <th>Country_Poland</th>\n",
       "      <th>Country_South</th>\n",
       "      <th>Country_Spain</th>\n",
       "      <th>Country_Taiwan</th>\n",
       "      <th>Country_Thailand</th>\n",
       "      <th>Country_UK</th>\n",
       "      <th>Country_USA</th>\n",
       "    </tr>\n",
       "  </thead>\n",
       "  <tbody>\n",
       "    <tr>\n",
       "      <th>0</th>\n",
       "      <td>0</td>\n",
       "      <td>0</td>\n",
       "      <td>1</td>\n",
       "      <td>0</td>\n",
       "      <td>0</td>\n",
       "      <td>0</td>\n",
       "      <td>0</td>\n",
       "      <td>0</td>\n",
       "      <td>0</td>\n",
       "      <td>0</td>\n",
       "      <td>...</td>\n",
       "      <td>0</td>\n",
       "      <td>0</td>\n",
       "      <td>0</td>\n",
       "      <td>0</td>\n",
       "      <td>0</td>\n",
       "      <td>0</td>\n",
       "      <td>0</td>\n",
       "      <td>0</td>\n",
       "      <td>0</td>\n",
       "      <td>0</td>\n",
       "    </tr>\n",
       "    <tr>\n",
       "      <th>1</th>\n",
       "      <td>0</td>\n",
       "      <td>0</td>\n",
       "      <td>0</td>\n",
       "      <td>0</td>\n",
       "      <td>0</td>\n",
       "      <td>0</td>\n",
       "      <td>0</td>\n",
       "      <td>0</td>\n",
       "      <td>0</td>\n",
       "      <td>0</td>\n",
       "      <td>...</td>\n",
       "      <td>0</td>\n",
       "      <td>0</td>\n",
       "      <td>0</td>\n",
       "      <td>0</td>\n",
       "      <td>0</td>\n",
       "      <td>0</td>\n",
       "      <td>0</td>\n",
       "      <td>0</td>\n",
       "      <td>0</td>\n",
       "      <td>0</td>\n",
       "    </tr>\n",
       "    <tr>\n",
       "      <th>2</th>\n",
       "      <td>0</td>\n",
       "      <td>0</td>\n",
       "      <td>0</td>\n",
       "      <td>0</td>\n",
       "      <td>0</td>\n",
       "      <td>0</td>\n",
       "      <td>0</td>\n",
       "      <td>0</td>\n",
       "      <td>0</td>\n",
       "      <td>0</td>\n",
       "      <td>...</td>\n",
       "      <td>0</td>\n",
       "      <td>0</td>\n",
       "      <td>0</td>\n",
       "      <td>0</td>\n",
       "      <td>0</td>\n",
       "      <td>0</td>\n",
       "      <td>0</td>\n",
       "      <td>0</td>\n",
       "      <td>0</td>\n",
       "      <td>0</td>\n",
       "    </tr>\n",
       "    <tr>\n",
       "      <th>3</th>\n",
       "      <td>0</td>\n",
       "      <td>0</td>\n",
       "      <td>0</td>\n",
       "      <td>0</td>\n",
       "      <td>0</td>\n",
       "      <td>0</td>\n",
       "      <td>0</td>\n",
       "      <td>0</td>\n",
       "      <td>0</td>\n",
       "      <td>0</td>\n",
       "      <td>...</td>\n",
       "      <td>0</td>\n",
       "      <td>0</td>\n",
       "      <td>0</td>\n",
       "      <td>0</td>\n",
       "      <td>0</td>\n",
       "      <td>0</td>\n",
       "      <td>0</td>\n",
       "      <td>0</td>\n",
       "      <td>0</td>\n",
       "      <td>0</td>\n",
       "    </tr>\n",
       "    <tr>\n",
       "      <th>4</th>\n",
       "      <td>0</td>\n",
       "      <td>0</td>\n",
       "      <td>1</td>\n",
       "      <td>0</td>\n",
       "      <td>0</td>\n",
       "      <td>0</td>\n",
       "      <td>0</td>\n",
       "      <td>0</td>\n",
       "      <td>0</td>\n",
       "      <td>0</td>\n",
       "      <td>...</td>\n",
       "      <td>0</td>\n",
       "      <td>0</td>\n",
       "      <td>0</td>\n",
       "      <td>0</td>\n",
       "      <td>0</td>\n",
       "      <td>0</td>\n",
       "      <td>0</td>\n",
       "      <td>0</td>\n",
       "      <td>0</td>\n",
       "      <td>0</td>\n",
       "    </tr>\n",
       "    <tr>\n",
       "      <th>5</th>\n",
       "      <td>0</td>\n",
       "      <td>0</td>\n",
       "      <td>0</td>\n",
       "      <td>0</td>\n",
       "      <td>0</td>\n",
       "      <td>0</td>\n",
       "      <td>0</td>\n",
       "      <td>0</td>\n",
       "      <td>0</td>\n",
       "      <td>0</td>\n",
       "      <td>...</td>\n",
       "      <td>0</td>\n",
       "      <td>0</td>\n",
       "      <td>0</td>\n",
       "      <td>0</td>\n",
       "      <td>0</td>\n",
       "      <td>0</td>\n",
       "      <td>0</td>\n",
       "      <td>0</td>\n",
       "      <td>0</td>\n",
       "      <td>0</td>\n",
       "    </tr>\n",
       "    <tr>\n",
       "      <th>6</th>\n",
       "      <td>1</td>\n",
       "      <td>0</td>\n",
       "      <td>0</td>\n",
       "      <td>0</td>\n",
       "      <td>0</td>\n",
       "      <td>0</td>\n",
       "      <td>0</td>\n",
       "      <td>0</td>\n",
       "      <td>0</td>\n",
       "      <td>0</td>\n",
       "      <td>...</td>\n",
       "      <td>0</td>\n",
       "      <td>0</td>\n",
       "      <td>0</td>\n",
       "      <td>0</td>\n",
       "      <td>0</td>\n",
       "      <td>0</td>\n",
       "      <td>0</td>\n",
       "      <td>0</td>\n",
       "      <td>0</td>\n",
       "      <td>1</td>\n",
       "    </tr>\n",
       "    <tr>\n",
       "      <th>7</th>\n",
       "      <td>0</td>\n",
       "      <td>0</td>\n",
       "      <td>0</td>\n",
       "      <td>0</td>\n",
       "      <td>0</td>\n",
       "      <td>0</td>\n",
       "      <td>0</td>\n",
       "      <td>0</td>\n",
       "      <td>0</td>\n",
       "      <td>1</td>\n",
       "      <td>...</td>\n",
       "      <td>0</td>\n",
       "      <td>0</td>\n",
       "      <td>0</td>\n",
       "      <td>0</td>\n",
       "      <td>0</td>\n",
       "      <td>0</td>\n",
       "      <td>0</td>\n",
       "      <td>0</td>\n",
       "      <td>0</td>\n",
       "      <td>1</td>\n",
       "    </tr>\n",
       "    <tr>\n",
       "      <th>8</th>\n",
       "      <td>0</td>\n",
       "      <td>0</td>\n",
       "      <td>0</td>\n",
       "      <td>0</td>\n",
       "      <td>1</td>\n",
       "      <td>0</td>\n",
       "      <td>0</td>\n",
       "      <td>0</td>\n",
       "      <td>0</td>\n",
       "      <td>0</td>\n",
       "      <td>...</td>\n",
       "      <td>0</td>\n",
       "      <td>0</td>\n",
       "      <td>0</td>\n",
       "      <td>0</td>\n",
       "      <td>0</td>\n",
       "      <td>0</td>\n",
       "      <td>0</td>\n",
       "      <td>0</td>\n",
       "      <td>0</td>\n",
       "      <td>1</td>\n",
       "    </tr>\n",
       "    <tr>\n",
       "      <th>9</th>\n",
       "      <td>0</td>\n",
       "      <td>0</td>\n",
       "      <td>0</td>\n",
       "      <td>0</td>\n",
       "      <td>0</td>\n",
       "      <td>0</td>\n",
       "      <td>0</td>\n",
       "      <td>0</td>\n",
       "      <td>0</td>\n",
       "      <td>0</td>\n",
       "      <td>...</td>\n",
       "      <td>0</td>\n",
       "      <td>0</td>\n",
       "      <td>0</td>\n",
       "      <td>0</td>\n",
       "      <td>0</td>\n",
       "      <td>0</td>\n",
       "      <td>0</td>\n",
       "      <td>0</td>\n",
       "      <td>0</td>\n",
       "      <td>1</td>\n",
       "    </tr>\n",
       "    <tr>\n",
       "      <th>10</th>\n",
       "      <td>1</td>\n",
       "      <td>0</td>\n",
       "      <td>0</td>\n",
       "      <td>0</td>\n",
       "      <td>0</td>\n",
       "      <td>0</td>\n",
       "      <td>0</td>\n",
       "      <td>0</td>\n",
       "      <td>0</td>\n",
       "      <td>0</td>\n",
       "      <td>...</td>\n",
       "      <td>0</td>\n",
       "      <td>0</td>\n",
       "      <td>0</td>\n",
       "      <td>0</td>\n",
       "      <td>0</td>\n",
       "      <td>0</td>\n",
       "      <td>0</td>\n",
       "      <td>0</td>\n",
       "      <td>0</td>\n",
       "      <td>0</td>\n",
       "    </tr>\n",
       "    <tr>\n",
       "      <th>11</th>\n",
       "      <td>0</td>\n",
       "      <td>0</td>\n",
       "      <td>0</td>\n",
       "      <td>0</td>\n",
       "      <td>0</td>\n",
       "      <td>0</td>\n",
       "      <td>0</td>\n",
       "      <td>0</td>\n",
       "      <td>0</td>\n",
       "      <td>1</td>\n",
       "      <td>...</td>\n",
       "      <td>0</td>\n",
       "      <td>0</td>\n",
       "      <td>0</td>\n",
       "      <td>0</td>\n",
       "      <td>0</td>\n",
       "      <td>0</td>\n",
       "      <td>0</td>\n",
       "      <td>0</td>\n",
       "      <td>0</td>\n",
       "      <td>0</td>\n",
       "    </tr>\n",
       "    <tr>\n",
       "      <th>12</th>\n",
       "      <td>0</td>\n",
       "      <td>0</td>\n",
       "      <td>0</td>\n",
       "      <td>0</td>\n",
       "      <td>1</td>\n",
       "      <td>0</td>\n",
       "      <td>0</td>\n",
       "      <td>0</td>\n",
       "      <td>0</td>\n",
       "      <td>0</td>\n",
       "      <td>...</td>\n",
       "      <td>0</td>\n",
       "      <td>0</td>\n",
       "      <td>0</td>\n",
       "      <td>0</td>\n",
       "      <td>0</td>\n",
       "      <td>0</td>\n",
       "      <td>0</td>\n",
       "      <td>0</td>\n",
       "      <td>0</td>\n",
       "      <td>0</td>\n",
       "    </tr>\n",
       "    <tr>\n",
       "      <th>13</th>\n",
       "      <td>0</td>\n",
       "      <td>0</td>\n",
       "      <td>0</td>\n",
       "      <td>0</td>\n",
       "      <td>0</td>\n",
       "      <td>0</td>\n",
       "      <td>0</td>\n",
       "      <td>0</td>\n",
       "      <td>0</td>\n",
       "      <td>0</td>\n",
       "      <td>...</td>\n",
       "      <td>0</td>\n",
       "      <td>0</td>\n",
       "      <td>0</td>\n",
       "      <td>0</td>\n",
       "      <td>0</td>\n",
       "      <td>0</td>\n",
       "      <td>0</td>\n",
       "      <td>0</td>\n",
       "      <td>0</td>\n",
       "      <td>0</td>\n",
       "    </tr>\n",
       "    <tr>\n",
       "      <th>14</th>\n",
       "      <td>1</td>\n",
       "      <td>0</td>\n",
       "      <td>0</td>\n",
       "      <td>0</td>\n",
       "      <td>0</td>\n",
       "      <td>0</td>\n",
       "      <td>0</td>\n",
       "      <td>0</td>\n",
       "      <td>0</td>\n",
       "      <td>0</td>\n",
       "      <td>...</td>\n",
       "      <td>0</td>\n",
       "      <td>0</td>\n",
       "      <td>0</td>\n",
       "      <td>0</td>\n",
       "      <td>0</td>\n",
       "      <td>0</td>\n",
       "      <td>0</td>\n",
       "      <td>0</td>\n",
       "      <td>0</td>\n",
       "      <td>1</td>\n",
       "    </tr>\n",
       "    <tr>\n",
       "      <th>15</th>\n",
       "      <td>0</td>\n",
       "      <td>0</td>\n",
       "      <td>0</td>\n",
       "      <td>0</td>\n",
       "      <td>0</td>\n",
       "      <td>0</td>\n",
       "      <td>0</td>\n",
       "      <td>0</td>\n",
       "      <td>0</td>\n",
       "      <td>0</td>\n",
       "      <td>...</td>\n",
       "      <td>0</td>\n",
       "      <td>0</td>\n",
       "      <td>0</td>\n",
       "      <td>0</td>\n",
       "      <td>0</td>\n",
       "      <td>0</td>\n",
       "      <td>0</td>\n",
       "      <td>0</td>\n",
       "      <td>0</td>\n",
       "      <td>1</td>\n",
       "    </tr>\n",
       "    <tr>\n",
       "      <th>16</th>\n",
       "      <td>1</td>\n",
       "      <td>0</td>\n",
       "      <td>0</td>\n",
       "      <td>0</td>\n",
       "      <td>0</td>\n",
       "      <td>0</td>\n",
       "      <td>0</td>\n",
       "      <td>0</td>\n",
       "      <td>0</td>\n",
       "      <td>0</td>\n",
       "      <td>...</td>\n",
       "      <td>0</td>\n",
       "      <td>0</td>\n",
       "      <td>0</td>\n",
       "      <td>0</td>\n",
       "      <td>0</td>\n",
       "      <td>0</td>\n",
       "      <td>0</td>\n",
       "      <td>0</td>\n",
       "      <td>0</td>\n",
       "      <td>1</td>\n",
       "    </tr>\n",
       "    <tr>\n",
       "      <th>17</th>\n",
       "      <td>0</td>\n",
       "      <td>0</td>\n",
       "      <td>0</td>\n",
       "      <td>0</td>\n",
       "      <td>0</td>\n",
       "      <td>0</td>\n",
       "      <td>0</td>\n",
       "      <td>0</td>\n",
       "      <td>0</td>\n",
       "      <td>1</td>\n",
       "      <td>...</td>\n",
       "      <td>0</td>\n",
       "      <td>0</td>\n",
       "      <td>0</td>\n",
       "      <td>0</td>\n",
       "      <td>0</td>\n",
       "      <td>0</td>\n",
       "      <td>0</td>\n",
       "      <td>0</td>\n",
       "      <td>0</td>\n",
       "      <td>1</td>\n",
       "    </tr>\n",
       "    <tr>\n",
       "      <th>18</th>\n",
       "      <td>0</td>\n",
       "      <td>0</td>\n",
       "      <td>0</td>\n",
       "      <td>0</td>\n",
       "      <td>0</td>\n",
       "      <td>0</td>\n",
       "      <td>0</td>\n",
       "      <td>0</td>\n",
       "      <td>0</td>\n",
       "      <td>0</td>\n",
       "      <td>...</td>\n",
       "      <td>0</td>\n",
       "      <td>0</td>\n",
       "      <td>0</td>\n",
       "      <td>0</td>\n",
       "      <td>0</td>\n",
       "      <td>0</td>\n",
       "      <td>0</td>\n",
       "      <td>0</td>\n",
       "      <td>0</td>\n",
       "      <td>1</td>\n",
       "    </tr>\n",
       "    <tr>\n",
       "      <th>19</th>\n",
       "      <td>1</td>\n",
       "      <td>0</td>\n",
       "      <td>0</td>\n",
       "      <td>0</td>\n",
       "      <td>0</td>\n",
       "      <td>0</td>\n",
       "      <td>0</td>\n",
       "      <td>0</td>\n",
       "      <td>0</td>\n",
       "      <td>0</td>\n",
       "      <td>...</td>\n",
       "      <td>0</td>\n",
       "      <td>0</td>\n",
       "      <td>0</td>\n",
       "      <td>0</td>\n",
       "      <td>0</td>\n",
       "      <td>0</td>\n",
       "      <td>0</td>\n",
       "      <td>0</td>\n",
       "      <td>0</td>\n",
       "      <td>1</td>\n",
       "    </tr>\n",
       "    <tr>\n",
       "      <th>20</th>\n",
       "      <td>0</td>\n",
       "      <td>0</td>\n",
       "      <td>0</td>\n",
       "      <td>0</td>\n",
       "      <td>0</td>\n",
       "      <td>0</td>\n",
       "      <td>0</td>\n",
       "      <td>0</td>\n",
       "      <td>0</td>\n",
       "      <td>1</td>\n",
       "      <td>...</td>\n",
       "      <td>0</td>\n",
       "      <td>0</td>\n",
       "      <td>0</td>\n",
       "      <td>0</td>\n",
       "      <td>0</td>\n",
       "      <td>0</td>\n",
       "      <td>0</td>\n",
       "      <td>0</td>\n",
       "      <td>0</td>\n",
       "      <td>1</td>\n",
       "    </tr>\n",
       "    <tr>\n",
       "      <th>21</th>\n",
       "      <td>0</td>\n",
       "      <td>0</td>\n",
       "      <td>0</td>\n",
       "      <td>0</td>\n",
       "      <td>0</td>\n",
       "      <td>0</td>\n",
       "      <td>0</td>\n",
       "      <td>0</td>\n",
       "      <td>0</td>\n",
       "      <td>0</td>\n",
       "      <td>...</td>\n",
       "      <td>0</td>\n",
       "      <td>0</td>\n",
       "      <td>0</td>\n",
       "      <td>0</td>\n",
       "      <td>0</td>\n",
       "      <td>0</td>\n",
       "      <td>0</td>\n",
       "      <td>0</td>\n",
       "      <td>0</td>\n",
       "      <td>1</td>\n",
       "    </tr>\n",
       "    <tr>\n",
       "      <th>22</th>\n",
       "      <td>1</td>\n",
       "      <td>0</td>\n",
       "      <td>0</td>\n",
       "      <td>0</td>\n",
       "      <td>0</td>\n",
       "      <td>0</td>\n",
       "      <td>0</td>\n",
       "      <td>0</td>\n",
       "      <td>0</td>\n",
       "      <td>0</td>\n",
       "      <td>...</td>\n",
       "      <td>0</td>\n",
       "      <td>0</td>\n",
       "      <td>0</td>\n",
       "      <td>0</td>\n",
       "      <td>0</td>\n",
       "      <td>0</td>\n",
       "      <td>0</td>\n",
       "      <td>0</td>\n",
       "      <td>0</td>\n",
       "      <td>1</td>\n",
       "    </tr>\n",
       "    <tr>\n",
       "      <th>23</th>\n",
       "      <td>0</td>\n",
       "      <td>0</td>\n",
       "      <td>0</td>\n",
       "      <td>0</td>\n",
       "      <td>0</td>\n",
       "      <td>0</td>\n",
       "      <td>0</td>\n",
       "      <td>0</td>\n",
       "      <td>0</td>\n",
       "      <td>1</td>\n",
       "      <td>...</td>\n",
       "      <td>0</td>\n",
       "      <td>0</td>\n",
       "      <td>0</td>\n",
       "      <td>0</td>\n",
       "      <td>0</td>\n",
       "      <td>0</td>\n",
       "      <td>0</td>\n",
       "      <td>0</td>\n",
       "      <td>0</td>\n",
       "      <td>1</td>\n",
       "    </tr>\n",
       "    <tr>\n",
       "      <th>24</th>\n",
       "      <td>0</td>\n",
       "      <td>0</td>\n",
       "      <td>0</td>\n",
       "      <td>0</td>\n",
       "      <td>0</td>\n",
       "      <td>0</td>\n",
       "      <td>0</td>\n",
       "      <td>0</td>\n",
       "      <td>0</td>\n",
       "      <td>0</td>\n",
       "      <td>...</td>\n",
       "      <td>0</td>\n",
       "      <td>0</td>\n",
       "      <td>0</td>\n",
       "      <td>0</td>\n",
       "      <td>0</td>\n",
       "      <td>0</td>\n",
       "      <td>0</td>\n",
       "      <td>0</td>\n",
       "      <td>0</td>\n",
       "      <td>1</td>\n",
       "    </tr>\n",
       "    <tr>\n",
       "      <th>25</th>\n",
       "      <td>1</td>\n",
       "      <td>0</td>\n",
       "      <td>0</td>\n",
       "      <td>0</td>\n",
       "      <td>0</td>\n",
       "      <td>0</td>\n",
       "      <td>0</td>\n",
       "      <td>0</td>\n",
       "      <td>0</td>\n",
       "      <td>0</td>\n",
       "      <td>...</td>\n",
       "      <td>0</td>\n",
       "      <td>0</td>\n",
       "      <td>0</td>\n",
       "      <td>0</td>\n",
       "      <td>0</td>\n",
       "      <td>0</td>\n",
       "      <td>0</td>\n",
       "      <td>0</td>\n",
       "      <td>0</td>\n",
       "      <td>1</td>\n",
       "    </tr>\n",
       "    <tr>\n",
       "      <th>26</th>\n",
       "      <td>0</td>\n",
       "      <td>0</td>\n",
       "      <td>0</td>\n",
       "      <td>0</td>\n",
       "      <td>0</td>\n",
       "      <td>0</td>\n",
       "      <td>0</td>\n",
       "      <td>0</td>\n",
       "      <td>0</td>\n",
       "      <td>1</td>\n",
       "      <td>...</td>\n",
       "      <td>0</td>\n",
       "      <td>0</td>\n",
       "      <td>0</td>\n",
       "      <td>0</td>\n",
       "      <td>0</td>\n",
       "      <td>0</td>\n",
       "      <td>0</td>\n",
       "      <td>0</td>\n",
       "      <td>0</td>\n",
       "      <td>1</td>\n",
       "    </tr>\n",
       "    <tr>\n",
       "      <th>27</th>\n",
       "      <td>0</td>\n",
       "      <td>0</td>\n",
       "      <td>0</td>\n",
       "      <td>0</td>\n",
       "      <td>0</td>\n",
       "      <td>0</td>\n",
       "      <td>0</td>\n",
       "      <td>0</td>\n",
       "      <td>0</td>\n",
       "      <td>0</td>\n",
       "      <td>...</td>\n",
       "      <td>0</td>\n",
       "      <td>0</td>\n",
       "      <td>0</td>\n",
       "      <td>0</td>\n",
       "      <td>0</td>\n",
       "      <td>0</td>\n",
       "      <td>0</td>\n",
       "      <td>0</td>\n",
       "      <td>0</td>\n",
       "      <td>1</td>\n",
       "    </tr>\n",
       "    <tr>\n",
       "      <th>28</th>\n",
       "      <td>1</td>\n",
       "      <td>0</td>\n",
       "      <td>0</td>\n",
       "      <td>0</td>\n",
       "      <td>0</td>\n",
       "      <td>0</td>\n",
       "      <td>0</td>\n",
       "      <td>0</td>\n",
       "      <td>0</td>\n",
       "      <td>0</td>\n",
       "      <td>...</td>\n",
       "      <td>0</td>\n",
       "      <td>0</td>\n",
       "      <td>0</td>\n",
       "      <td>0</td>\n",
       "      <td>0</td>\n",
       "      <td>0</td>\n",
       "      <td>0</td>\n",
       "      <td>0</td>\n",
       "      <td>0</td>\n",
       "      <td>1</td>\n",
       "    </tr>\n",
       "    <tr>\n",
       "      <th>29</th>\n",
       "      <td>0</td>\n",
       "      <td>0</td>\n",
       "      <td>0</td>\n",
       "      <td>0</td>\n",
       "      <td>0</td>\n",
       "      <td>0</td>\n",
       "      <td>1</td>\n",
       "      <td>0</td>\n",
       "      <td>0</td>\n",
       "      <td>0</td>\n",
       "      <td>...</td>\n",
       "      <td>0</td>\n",
       "      <td>0</td>\n",
       "      <td>0</td>\n",
       "      <td>0</td>\n",
       "      <td>0</td>\n",
       "      <td>0</td>\n",
       "      <td>0</td>\n",
       "      <td>0</td>\n",
       "      <td>0</td>\n",
       "      <td>0</td>\n",
       "    </tr>\n",
       "    <tr>\n",
       "      <th>...</th>\n",
       "      <td>...</td>\n",
       "      <td>...</td>\n",
       "      <td>...</td>\n",
       "      <td>...</td>\n",
       "      <td>...</td>\n",
       "      <td>...</td>\n",
       "      <td>...</td>\n",
       "      <td>...</td>\n",
       "      <td>...</td>\n",
       "      <td>...</td>\n",
       "      <td>...</td>\n",
       "      <td>...</td>\n",
       "      <td>...</td>\n",
       "      <td>...</td>\n",
       "      <td>...</td>\n",
       "      <td>...</td>\n",
       "      <td>...</td>\n",
       "      <td>...</td>\n",
       "      <td>...</td>\n",
       "      <td>...</td>\n",
       "      <td>...</td>\n",
       "    </tr>\n",
       "    <tr>\n",
       "      <th>594</th>\n",
       "      <td>0</td>\n",
       "      <td>0</td>\n",
       "      <td>0</td>\n",
       "      <td>0</td>\n",
       "      <td>0</td>\n",
       "      <td>0</td>\n",
       "      <td>0</td>\n",
       "      <td>0</td>\n",
       "      <td>0</td>\n",
       "      <td>1</td>\n",
       "      <td>...</td>\n",
       "      <td>0</td>\n",
       "      <td>0</td>\n",
       "      <td>0</td>\n",
       "      <td>0</td>\n",
       "      <td>0</td>\n",
       "      <td>0</td>\n",
       "      <td>0</td>\n",
       "      <td>0</td>\n",
       "      <td>0</td>\n",
       "      <td>1</td>\n",
       "    </tr>\n",
       "    <tr>\n",
       "      <th>595</th>\n",
       "      <td>0</td>\n",
       "      <td>0</td>\n",
       "      <td>1</td>\n",
       "      <td>0</td>\n",
       "      <td>0</td>\n",
       "      <td>0</td>\n",
       "      <td>0</td>\n",
       "      <td>0</td>\n",
       "      <td>0</td>\n",
       "      <td>0</td>\n",
       "      <td>...</td>\n",
       "      <td>0</td>\n",
       "      <td>0</td>\n",
       "      <td>0</td>\n",
       "      <td>0</td>\n",
       "      <td>0</td>\n",
       "      <td>0</td>\n",
       "      <td>0</td>\n",
       "      <td>0</td>\n",
       "      <td>0</td>\n",
       "      <td>1</td>\n",
       "    </tr>\n",
       "    <tr>\n",
       "      <th>596</th>\n",
       "      <td>0</td>\n",
       "      <td>0</td>\n",
       "      <td>0</td>\n",
       "      <td>0</td>\n",
       "      <td>1</td>\n",
       "      <td>0</td>\n",
       "      <td>0</td>\n",
       "      <td>0</td>\n",
       "      <td>0</td>\n",
       "      <td>0</td>\n",
       "      <td>...</td>\n",
       "      <td>0</td>\n",
       "      <td>0</td>\n",
       "      <td>0</td>\n",
       "      <td>0</td>\n",
       "      <td>0</td>\n",
       "      <td>0</td>\n",
       "      <td>0</td>\n",
       "      <td>0</td>\n",
       "      <td>0</td>\n",
       "      <td>1</td>\n",
       "    </tr>\n",
       "    <tr>\n",
       "      <th>597</th>\n",
       "      <td>0</td>\n",
       "      <td>0</td>\n",
       "      <td>0</td>\n",
       "      <td>0</td>\n",
       "      <td>0</td>\n",
       "      <td>0</td>\n",
       "      <td>0</td>\n",
       "      <td>0</td>\n",
       "      <td>0</td>\n",
       "      <td>0</td>\n",
       "      <td>...</td>\n",
       "      <td>0</td>\n",
       "      <td>0</td>\n",
       "      <td>0</td>\n",
       "      <td>0</td>\n",
       "      <td>0</td>\n",
       "      <td>0</td>\n",
       "      <td>0</td>\n",
       "      <td>0</td>\n",
       "      <td>0</td>\n",
       "      <td>1</td>\n",
       "    </tr>\n",
       "    <tr>\n",
       "      <th>598</th>\n",
       "      <td>0</td>\n",
       "      <td>0</td>\n",
       "      <td>0</td>\n",
       "      <td>0</td>\n",
       "      <td>0</td>\n",
       "      <td>0</td>\n",
       "      <td>0</td>\n",
       "      <td>0</td>\n",
       "      <td>0</td>\n",
       "      <td>0</td>\n",
       "      <td>...</td>\n",
       "      <td>0</td>\n",
       "      <td>0</td>\n",
       "      <td>0</td>\n",
       "      <td>0</td>\n",
       "      <td>0</td>\n",
       "      <td>0</td>\n",
       "      <td>0</td>\n",
       "      <td>0</td>\n",
       "      <td>0</td>\n",
       "      <td>0</td>\n",
       "    </tr>\n",
       "    <tr>\n",
       "      <th>599</th>\n",
       "      <td>1</td>\n",
       "      <td>0</td>\n",
       "      <td>0</td>\n",
       "      <td>0</td>\n",
       "      <td>0</td>\n",
       "      <td>0</td>\n",
       "      <td>0</td>\n",
       "      <td>0</td>\n",
       "      <td>0</td>\n",
       "      <td>0</td>\n",
       "      <td>...</td>\n",
       "      <td>0</td>\n",
       "      <td>0</td>\n",
       "      <td>0</td>\n",
       "      <td>0</td>\n",
       "      <td>0</td>\n",
       "      <td>0</td>\n",
       "      <td>0</td>\n",
       "      <td>0</td>\n",
       "      <td>0</td>\n",
       "      <td>0</td>\n",
       "    </tr>\n",
       "    <tr>\n",
       "      <th>600</th>\n",
       "      <td>0</td>\n",
       "      <td>0</td>\n",
       "      <td>0</td>\n",
       "      <td>0</td>\n",
       "      <td>0</td>\n",
       "      <td>0</td>\n",
       "      <td>0</td>\n",
       "      <td>0</td>\n",
       "      <td>0</td>\n",
       "      <td>0</td>\n",
       "      <td>...</td>\n",
       "      <td>0</td>\n",
       "      <td>0</td>\n",
       "      <td>0</td>\n",
       "      <td>0</td>\n",
       "      <td>0</td>\n",
       "      <td>0</td>\n",
       "      <td>0</td>\n",
       "      <td>0</td>\n",
       "      <td>0</td>\n",
       "      <td>0</td>\n",
       "    </tr>\n",
       "    <tr>\n",
       "      <th>601</th>\n",
       "      <td>0</td>\n",
       "      <td>0</td>\n",
       "      <td>1</td>\n",
       "      <td>0</td>\n",
       "      <td>0</td>\n",
       "      <td>0</td>\n",
       "      <td>0</td>\n",
       "      <td>0</td>\n",
       "      <td>0</td>\n",
       "      <td>0</td>\n",
       "      <td>...</td>\n",
       "      <td>0</td>\n",
       "      <td>0</td>\n",
       "      <td>0</td>\n",
       "      <td>0</td>\n",
       "      <td>0</td>\n",
       "      <td>0</td>\n",
       "      <td>0</td>\n",
       "      <td>0</td>\n",
       "      <td>0</td>\n",
       "      <td>0</td>\n",
       "    </tr>\n",
       "    <tr>\n",
       "      <th>602</th>\n",
       "      <td>0</td>\n",
       "      <td>0</td>\n",
       "      <td>0</td>\n",
       "      <td>0</td>\n",
       "      <td>0</td>\n",
       "      <td>0</td>\n",
       "      <td>0</td>\n",
       "      <td>0</td>\n",
       "      <td>0</td>\n",
       "      <td>0</td>\n",
       "      <td>...</td>\n",
       "      <td>0</td>\n",
       "      <td>0</td>\n",
       "      <td>0</td>\n",
       "      <td>0</td>\n",
       "      <td>0</td>\n",
       "      <td>0</td>\n",
       "      <td>0</td>\n",
       "      <td>0</td>\n",
       "      <td>0</td>\n",
       "      <td>0</td>\n",
       "    </tr>\n",
       "    <tr>\n",
       "      <th>603</th>\n",
       "      <td>1</td>\n",
       "      <td>0</td>\n",
       "      <td>0</td>\n",
       "      <td>0</td>\n",
       "      <td>0</td>\n",
       "      <td>0</td>\n",
       "      <td>0</td>\n",
       "      <td>0</td>\n",
       "      <td>0</td>\n",
       "      <td>0</td>\n",
       "      <td>...</td>\n",
       "      <td>0</td>\n",
       "      <td>0</td>\n",
       "      <td>0</td>\n",
       "      <td>0</td>\n",
       "      <td>0</td>\n",
       "      <td>0</td>\n",
       "      <td>0</td>\n",
       "      <td>0</td>\n",
       "      <td>0</td>\n",
       "      <td>1</td>\n",
       "    </tr>\n",
       "    <tr>\n",
       "      <th>604</th>\n",
       "      <td>0</td>\n",
       "      <td>0</td>\n",
       "      <td>0</td>\n",
       "      <td>0</td>\n",
       "      <td>0</td>\n",
       "      <td>0</td>\n",
       "      <td>0</td>\n",
       "      <td>0</td>\n",
       "      <td>0</td>\n",
       "      <td>1</td>\n",
       "      <td>...</td>\n",
       "      <td>0</td>\n",
       "      <td>0</td>\n",
       "      <td>0</td>\n",
       "      <td>0</td>\n",
       "      <td>0</td>\n",
       "      <td>0</td>\n",
       "      <td>0</td>\n",
       "      <td>0</td>\n",
       "      <td>0</td>\n",
       "      <td>1</td>\n",
       "    </tr>\n",
       "    <tr>\n",
       "      <th>605</th>\n",
       "      <td>0</td>\n",
       "      <td>0</td>\n",
       "      <td>1</td>\n",
       "      <td>0</td>\n",
       "      <td>0</td>\n",
       "      <td>0</td>\n",
       "      <td>0</td>\n",
       "      <td>0</td>\n",
       "      <td>0</td>\n",
       "      <td>0</td>\n",
       "      <td>...</td>\n",
       "      <td>0</td>\n",
       "      <td>0</td>\n",
       "      <td>0</td>\n",
       "      <td>0</td>\n",
       "      <td>0</td>\n",
       "      <td>0</td>\n",
       "      <td>0</td>\n",
       "      <td>0</td>\n",
       "      <td>0</td>\n",
       "      <td>1</td>\n",
       "    </tr>\n",
       "    <tr>\n",
       "      <th>606</th>\n",
       "      <td>0</td>\n",
       "      <td>0</td>\n",
       "      <td>0</td>\n",
       "      <td>0</td>\n",
       "      <td>1</td>\n",
       "      <td>0</td>\n",
       "      <td>0</td>\n",
       "      <td>0</td>\n",
       "      <td>0</td>\n",
       "      <td>0</td>\n",
       "      <td>...</td>\n",
       "      <td>0</td>\n",
       "      <td>0</td>\n",
       "      <td>0</td>\n",
       "      <td>0</td>\n",
       "      <td>0</td>\n",
       "      <td>0</td>\n",
       "      <td>0</td>\n",
       "      <td>0</td>\n",
       "      <td>0</td>\n",
       "      <td>1</td>\n",
       "    </tr>\n",
       "    <tr>\n",
       "      <th>607</th>\n",
       "      <td>0</td>\n",
       "      <td>0</td>\n",
       "      <td>0</td>\n",
       "      <td>0</td>\n",
       "      <td>0</td>\n",
       "      <td>0</td>\n",
       "      <td>0</td>\n",
       "      <td>0</td>\n",
       "      <td>0</td>\n",
       "      <td>0</td>\n",
       "      <td>...</td>\n",
       "      <td>0</td>\n",
       "      <td>0</td>\n",
       "      <td>0</td>\n",
       "      <td>0</td>\n",
       "      <td>0</td>\n",
       "      <td>0</td>\n",
       "      <td>0</td>\n",
       "      <td>0</td>\n",
       "      <td>0</td>\n",
       "      <td>1</td>\n",
       "    </tr>\n",
       "    <tr>\n",
       "      <th>608</th>\n",
       "      <td>0</td>\n",
       "      <td>0</td>\n",
       "      <td>1</td>\n",
       "      <td>0</td>\n",
       "      <td>0</td>\n",
       "      <td>0</td>\n",
       "      <td>0</td>\n",
       "      <td>0</td>\n",
       "      <td>0</td>\n",
       "      <td>0</td>\n",
       "      <td>...</td>\n",
       "      <td>0</td>\n",
       "      <td>0</td>\n",
       "      <td>0</td>\n",
       "      <td>0</td>\n",
       "      <td>0</td>\n",
       "      <td>0</td>\n",
       "      <td>0</td>\n",
       "      <td>0</td>\n",
       "      <td>0</td>\n",
       "      <td>1</td>\n",
       "    </tr>\n",
       "    <tr>\n",
       "      <th>609</th>\n",
       "      <td>0</td>\n",
       "      <td>0</td>\n",
       "      <td>0</td>\n",
       "      <td>0</td>\n",
       "      <td>0</td>\n",
       "      <td>0</td>\n",
       "      <td>1</td>\n",
       "      <td>0</td>\n",
       "      <td>0</td>\n",
       "      <td>0</td>\n",
       "      <td>...</td>\n",
       "      <td>0</td>\n",
       "      <td>0</td>\n",
       "      <td>0</td>\n",
       "      <td>0</td>\n",
       "      <td>0</td>\n",
       "      <td>0</td>\n",
       "      <td>0</td>\n",
       "      <td>0</td>\n",
       "      <td>0</td>\n",
       "      <td>1</td>\n",
       "    </tr>\n",
       "    <tr>\n",
       "      <th>610</th>\n",
       "      <td>0</td>\n",
       "      <td>0</td>\n",
       "      <td>0</td>\n",
       "      <td>0</td>\n",
       "      <td>0</td>\n",
       "      <td>0</td>\n",
       "      <td>0</td>\n",
       "      <td>0</td>\n",
       "      <td>0</td>\n",
       "      <td>0</td>\n",
       "      <td>...</td>\n",
       "      <td>0</td>\n",
       "      <td>0</td>\n",
       "      <td>0</td>\n",
       "      <td>0</td>\n",
       "      <td>0</td>\n",
       "      <td>0</td>\n",
       "      <td>0</td>\n",
       "      <td>0</td>\n",
       "      <td>0</td>\n",
       "      <td>1</td>\n",
       "    </tr>\n",
       "    <tr>\n",
       "      <th>611</th>\n",
       "      <td>0</td>\n",
       "      <td>0</td>\n",
       "      <td>0</td>\n",
       "      <td>0</td>\n",
       "      <td>0</td>\n",
       "      <td>0</td>\n",
       "      <td>0</td>\n",
       "      <td>0</td>\n",
       "      <td>0</td>\n",
       "      <td>1</td>\n",
       "      <td>...</td>\n",
       "      <td>0</td>\n",
       "      <td>0</td>\n",
       "      <td>0</td>\n",
       "      <td>0</td>\n",
       "      <td>0</td>\n",
       "      <td>0</td>\n",
       "      <td>0</td>\n",
       "      <td>0</td>\n",
       "      <td>0</td>\n",
       "      <td>1</td>\n",
       "    </tr>\n",
       "    <tr>\n",
       "      <th>612</th>\n",
       "      <td>0</td>\n",
       "      <td>0</td>\n",
       "      <td>0</td>\n",
       "      <td>0</td>\n",
       "      <td>0</td>\n",
       "      <td>0</td>\n",
       "      <td>0</td>\n",
       "      <td>0</td>\n",
       "      <td>0</td>\n",
       "      <td>0</td>\n",
       "      <td>...</td>\n",
       "      <td>0</td>\n",
       "      <td>0</td>\n",
       "      <td>0</td>\n",
       "      <td>0</td>\n",
       "      <td>0</td>\n",
       "      <td>0</td>\n",
       "      <td>0</td>\n",
       "      <td>0</td>\n",
       "      <td>0</td>\n",
       "      <td>1</td>\n",
       "    </tr>\n",
       "    <tr>\n",
       "      <th>613</th>\n",
       "      <td>0</td>\n",
       "      <td>0</td>\n",
       "      <td>1</td>\n",
       "      <td>0</td>\n",
       "      <td>0</td>\n",
       "      <td>0</td>\n",
       "      <td>0</td>\n",
       "      <td>0</td>\n",
       "      <td>0</td>\n",
       "      <td>0</td>\n",
       "      <td>...</td>\n",
       "      <td>0</td>\n",
       "      <td>0</td>\n",
       "      <td>0</td>\n",
       "      <td>0</td>\n",
       "      <td>0</td>\n",
       "      <td>0</td>\n",
       "      <td>0</td>\n",
       "      <td>0</td>\n",
       "      <td>0</td>\n",
       "      <td>1</td>\n",
       "    </tr>\n",
       "    <tr>\n",
       "      <th>614</th>\n",
       "      <td>0</td>\n",
       "      <td>0</td>\n",
       "      <td>0</td>\n",
       "      <td>0</td>\n",
       "      <td>0</td>\n",
       "      <td>0</td>\n",
       "      <td>0</td>\n",
       "      <td>0</td>\n",
       "      <td>0</td>\n",
       "      <td>0</td>\n",
       "      <td>...</td>\n",
       "      <td>0</td>\n",
       "      <td>0</td>\n",
       "      <td>0</td>\n",
       "      <td>0</td>\n",
       "      <td>0</td>\n",
       "      <td>0</td>\n",
       "      <td>0</td>\n",
       "      <td>0</td>\n",
       "      <td>0</td>\n",
       "      <td>1</td>\n",
       "    </tr>\n",
       "    <tr>\n",
       "      <th>615</th>\n",
       "      <td>0</td>\n",
       "      <td>0</td>\n",
       "      <td>0</td>\n",
       "      <td>0</td>\n",
       "      <td>0</td>\n",
       "      <td>0</td>\n",
       "      <td>0</td>\n",
       "      <td>0</td>\n",
       "      <td>0</td>\n",
       "      <td>0</td>\n",
       "      <td>...</td>\n",
       "      <td>0</td>\n",
       "      <td>0</td>\n",
       "      <td>0</td>\n",
       "      <td>0</td>\n",
       "      <td>0</td>\n",
       "      <td>0</td>\n",
       "      <td>0</td>\n",
       "      <td>0</td>\n",
       "      <td>0</td>\n",
       "      <td>1</td>\n",
       "    </tr>\n",
       "    <tr>\n",
       "      <th>616</th>\n",
       "      <td>0</td>\n",
       "      <td>0</td>\n",
       "      <td>0</td>\n",
       "      <td>0</td>\n",
       "      <td>0</td>\n",
       "      <td>0</td>\n",
       "      <td>0</td>\n",
       "      <td>0</td>\n",
       "      <td>0</td>\n",
       "      <td>1</td>\n",
       "      <td>...</td>\n",
       "      <td>0</td>\n",
       "      <td>0</td>\n",
       "      <td>0</td>\n",
       "      <td>0</td>\n",
       "      <td>0</td>\n",
       "      <td>0</td>\n",
       "      <td>0</td>\n",
       "      <td>0</td>\n",
       "      <td>0</td>\n",
       "      <td>1</td>\n",
       "    </tr>\n",
       "    <tr>\n",
       "      <th>617</th>\n",
       "      <td>0</td>\n",
       "      <td>0</td>\n",
       "      <td>0</td>\n",
       "      <td>0</td>\n",
       "      <td>0</td>\n",
       "      <td>0</td>\n",
       "      <td>0</td>\n",
       "      <td>0</td>\n",
       "      <td>0</td>\n",
       "      <td>0</td>\n",
       "      <td>...</td>\n",
       "      <td>0</td>\n",
       "      <td>0</td>\n",
       "      <td>0</td>\n",
       "      <td>0</td>\n",
       "      <td>0</td>\n",
       "      <td>0</td>\n",
       "      <td>0</td>\n",
       "      <td>0</td>\n",
       "      <td>0</td>\n",
       "      <td>1</td>\n",
       "    </tr>\n",
       "    <tr>\n",
       "      <th>618</th>\n",
       "      <td>0</td>\n",
       "      <td>0</td>\n",
       "      <td>0</td>\n",
       "      <td>1</td>\n",
       "      <td>0</td>\n",
       "      <td>0</td>\n",
       "      <td>0</td>\n",
       "      <td>0</td>\n",
       "      <td>0</td>\n",
       "      <td>0</td>\n",
       "      <td>...</td>\n",
       "      <td>0</td>\n",
       "      <td>0</td>\n",
       "      <td>0</td>\n",
       "      <td>0</td>\n",
       "      <td>0</td>\n",
       "      <td>0</td>\n",
       "      <td>0</td>\n",
       "      <td>0</td>\n",
       "      <td>0</td>\n",
       "      <td>1</td>\n",
       "    </tr>\n",
       "    <tr>\n",
       "      <th>619</th>\n",
       "      <td>0</td>\n",
       "      <td>0</td>\n",
       "      <td>0</td>\n",
       "      <td>0</td>\n",
       "      <td>1</td>\n",
       "      <td>0</td>\n",
       "      <td>0</td>\n",
       "      <td>0</td>\n",
       "      <td>0</td>\n",
       "      <td>0</td>\n",
       "      <td>...</td>\n",
       "      <td>0</td>\n",
       "      <td>0</td>\n",
       "      <td>0</td>\n",
       "      <td>0</td>\n",
       "      <td>0</td>\n",
       "      <td>0</td>\n",
       "      <td>0</td>\n",
       "      <td>0</td>\n",
       "      <td>0</td>\n",
       "      <td>1</td>\n",
       "    </tr>\n",
       "    <tr>\n",
       "      <th>620</th>\n",
       "      <td>1</td>\n",
       "      <td>0</td>\n",
       "      <td>0</td>\n",
       "      <td>0</td>\n",
       "      <td>0</td>\n",
       "      <td>0</td>\n",
       "      <td>0</td>\n",
       "      <td>0</td>\n",
       "      <td>0</td>\n",
       "      <td>0</td>\n",
       "      <td>...</td>\n",
       "      <td>0</td>\n",
       "      <td>0</td>\n",
       "      <td>0</td>\n",
       "      <td>0</td>\n",
       "      <td>0</td>\n",
       "      <td>0</td>\n",
       "      <td>0</td>\n",
       "      <td>0</td>\n",
       "      <td>0</td>\n",
       "      <td>0</td>\n",
       "    </tr>\n",
       "    <tr>\n",
       "      <th>621</th>\n",
       "      <td>0</td>\n",
       "      <td>0</td>\n",
       "      <td>1</td>\n",
       "      <td>0</td>\n",
       "      <td>0</td>\n",
       "      <td>0</td>\n",
       "      <td>0</td>\n",
       "      <td>0</td>\n",
       "      <td>0</td>\n",
       "      <td>0</td>\n",
       "      <td>...</td>\n",
       "      <td>0</td>\n",
       "      <td>0</td>\n",
       "      <td>0</td>\n",
       "      <td>0</td>\n",
       "      <td>0</td>\n",
       "      <td>0</td>\n",
       "      <td>0</td>\n",
       "      <td>0</td>\n",
       "      <td>0</td>\n",
       "      <td>0</td>\n",
       "    </tr>\n",
       "    <tr>\n",
       "      <th>622</th>\n",
       "      <td>0</td>\n",
       "      <td>0</td>\n",
       "      <td>0</td>\n",
       "      <td>0</td>\n",
       "      <td>0</td>\n",
       "      <td>1</td>\n",
       "      <td>0</td>\n",
       "      <td>0</td>\n",
       "      <td>0</td>\n",
       "      <td>0</td>\n",
       "      <td>...</td>\n",
       "      <td>0</td>\n",
       "      <td>0</td>\n",
       "      <td>0</td>\n",
       "      <td>0</td>\n",
       "      <td>0</td>\n",
       "      <td>0</td>\n",
       "      <td>0</td>\n",
       "      <td>0</td>\n",
       "      <td>0</td>\n",
       "      <td>0</td>\n",
       "    </tr>\n",
       "    <tr>\n",
       "      <th>623</th>\n",
       "      <td>0</td>\n",
       "      <td>0</td>\n",
       "      <td>0</td>\n",
       "      <td>0</td>\n",
       "      <td>0</td>\n",
       "      <td>0</td>\n",
       "      <td>0</td>\n",
       "      <td>0</td>\n",
       "      <td>0</td>\n",
       "      <td>0</td>\n",
       "      <td>...</td>\n",
       "      <td>0</td>\n",
       "      <td>0</td>\n",
       "      <td>0</td>\n",
       "      <td>0</td>\n",
       "      <td>0</td>\n",
       "      <td>0</td>\n",
       "      <td>0</td>\n",
       "      <td>0</td>\n",
       "      <td>0</td>\n",
       "      <td>0</td>\n",
       "    </tr>\n",
       "  </tbody>\n",
       "</table>\n",
       "<p>619 rows × 42 columns</p>\n",
       "</div>"
      ],
      "text/plain": [
       "     Number_1.0  Number_11.0  Number_12.0  Number_13.0  Number_14.0  \\\n",
       "0             0            0            1            0            0   \n",
       "1             0            0            0            0            0   \n",
       "2             0            0            0            0            0   \n",
       "3             0            0            0            0            0   \n",
       "4             0            0            1            0            0   \n",
       "5             0            0            0            0            0   \n",
       "6             1            0            0            0            0   \n",
       "7             0            0            0            0            0   \n",
       "8             0            0            0            0            1   \n",
       "9             0            0            0            0            0   \n",
       "10            1            0            0            0            0   \n",
       "11            0            0            0            0            0   \n",
       "12            0            0            0            0            1   \n",
       "13            0            0            0            0            0   \n",
       "14            1            0            0            0            0   \n",
       "15            0            0            0            0            0   \n",
       "16            1            0            0            0            0   \n",
       "17            0            0            0            0            0   \n",
       "18            0            0            0            0            0   \n",
       "19            1            0            0            0            0   \n",
       "20            0            0            0            0            0   \n",
       "21            0            0            0            0            0   \n",
       "22            1            0            0            0            0   \n",
       "23            0            0            0            0            0   \n",
       "24            0            0            0            0            0   \n",
       "25            1            0            0            0            0   \n",
       "26            0            0            0            0            0   \n",
       "27            0            0            0            0            0   \n",
       "28            1            0            0            0            0   \n",
       "29            0            0            0            0            0   \n",
       "..          ...          ...          ...          ...          ...   \n",
       "594           0            0            0            0            0   \n",
       "595           0            0            1            0            0   \n",
       "596           0            0            0            0            1   \n",
       "597           0            0            0            0            0   \n",
       "598           0            0            0            0            0   \n",
       "599           1            0            0            0            0   \n",
       "600           0            0            0            0            0   \n",
       "601           0            0            1            0            0   \n",
       "602           0            0            0            0            0   \n",
       "603           1            0            0            0            0   \n",
       "604           0            0            0            0            0   \n",
       "605           0            0            1            0            0   \n",
       "606           0            0            0            0            1   \n",
       "607           0            0            0            0            0   \n",
       "608           0            0            1            0            0   \n",
       "609           0            0            0            0            0   \n",
       "610           0            0            0            0            0   \n",
       "611           0            0            0            0            0   \n",
       "612           0            0            0            0            0   \n",
       "613           0            0            1            0            0   \n",
       "614           0            0            0            0            0   \n",
       "615           0            0            0            0            0   \n",
       "616           0            0            0            0            0   \n",
       "617           0            0            0            0            0   \n",
       "618           0            0            0            1            0   \n",
       "619           0            0            0            0            1   \n",
       "620           1            0            0            0            0   \n",
       "621           0            0            1            0            0   \n",
       "622           0            0            0            0            0   \n",
       "623           0            0            0            0            0   \n",
       "\n",
       "     Number_15.0  Number_16.0  Number_18.0  Number_19.0  Number_2.0  ...  \\\n",
       "0              0            0            0            0           0  ...   \n",
       "1              0            0            0            0           0  ...   \n",
       "2              0            0            0            0           0  ...   \n",
       "3              0            0            0            0           0  ...   \n",
       "4              0            0            0            0           0  ...   \n",
       "5              0            0            0            0           0  ...   \n",
       "6              0            0            0            0           0  ...   \n",
       "7              0            0            0            0           1  ...   \n",
       "8              0            0            0            0           0  ...   \n",
       "9              0            0            0            0           0  ...   \n",
       "10             0            0            0            0           0  ...   \n",
       "11             0            0            0            0           1  ...   \n",
       "12             0            0            0            0           0  ...   \n",
       "13             0            0            0            0           0  ...   \n",
       "14             0            0            0            0           0  ...   \n",
       "15             0            0            0            0           0  ...   \n",
       "16             0            0            0            0           0  ...   \n",
       "17             0            0            0            0           1  ...   \n",
       "18             0            0            0            0           0  ...   \n",
       "19             0            0            0            0           0  ...   \n",
       "20             0            0            0            0           1  ...   \n",
       "21             0            0            0            0           0  ...   \n",
       "22             0            0            0            0           0  ...   \n",
       "23             0            0            0            0           1  ...   \n",
       "24             0            0            0            0           0  ...   \n",
       "25             0            0            0            0           0  ...   \n",
       "26             0            0            0            0           1  ...   \n",
       "27             0            0            0            0           0  ...   \n",
       "28             0            0            0            0           0  ...   \n",
       "29             0            1            0            0           0  ...   \n",
       "..           ...          ...          ...          ...         ...  ...   \n",
       "594            0            0            0            0           1  ...   \n",
       "595            0            0            0            0           0  ...   \n",
       "596            0            0            0            0           0  ...   \n",
       "597            0            0            0            0           0  ...   \n",
       "598            0            0            0            0           0  ...   \n",
       "599            0            0            0            0           0  ...   \n",
       "600            0            0            0            0           0  ...   \n",
       "601            0            0            0            0           0  ...   \n",
       "602            0            0            0            0           0  ...   \n",
       "603            0            0            0            0           0  ...   \n",
       "604            0            0            0            0           1  ...   \n",
       "605            0            0            0            0           0  ...   \n",
       "606            0            0            0            0           0  ...   \n",
       "607            0            0            0            0           0  ...   \n",
       "608            0            0            0            0           0  ...   \n",
       "609            0            1            0            0           0  ...   \n",
       "610            0            0            0            0           0  ...   \n",
       "611            0            0            0            0           1  ...   \n",
       "612            0            0            0            0           0  ...   \n",
       "613            0            0            0            0           0  ...   \n",
       "614            0            0            0            0           0  ...   \n",
       "615            0            0            0            0           0  ...   \n",
       "616            0            0            0            0           1  ...   \n",
       "617            0            0            0            0           0  ...   \n",
       "618            0            0            0            0           0  ...   \n",
       "619            0            0            0            0           0  ...   \n",
       "620            0            0            0            0           0  ...   \n",
       "621            0            0            0            0           0  ...   \n",
       "622            1            0            0            0           0  ...   \n",
       "623            0            0            0            0           0  ...   \n",
       "\n",
       "     Country_India  Country_Japan  Country_New  Country_Poland  Country_South  \\\n",
       "0                0              0            0               0              0   \n",
       "1                0              0            0               0              0   \n",
       "2                0              0            0               0              0   \n",
       "3                0              0            0               0              0   \n",
       "4                0              0            0               0              0   \n",
       "5                0              0            0               0              0   \n",
       "6                0              0            0               0              0   \n",
       "7                0              0            0               0              0   \n",
       "8                0              0            0               0              0   \n",
       "9                0              0            0               0              0   \n",
       "10               0              0            0               0              0   \n",
       "11               0              0            0               0              0   \n",
       "12               0              0            0               0              0   \n",
       "13               0              0            0               0              0   \n",
       "14               0              0            0               0              0   \n",
       "15               0              0            0               0              0   \n",
       "16               0              0            0               0              0   \n",
       "17               0              0            0               0              0   \n",
       "18               0              0            0               0              0   \n",
       "19               0              0            0               0              0   \n",
       "20               0              0            0               0              0   \n",
       "21               0              0            0               0              0   \n",
       "22               0              0            0               0              0   \n",
       "23               0              0            0               0              0   \n",
       "24               0              0            0               0              0   \n",
       "25               0              0            0               0              0   \n",
       "26               0              0            0               0              0   \n",
       "27               0              0            0               0              0   \n",
       "28               0              0            0               0              0   \n",
       "29               0              0            0               0              0   \n",
       "..             ...            ...          ...             ...            ...   \n",
       "594              0              0            0               0              0   \n",
       "595              0              0            0               0              0   \n",
       "596              0              0            0               0              0   \n",
       "597              0              0            0               0              0   \n",
       "598              0              0            0               0              0   \n",
       "599              0              0            0               0              0   \n",
       "600              0              0            0               0              0   \n",
       "601              0              0            0               0              0   \n",
       "602              0              0            0               0              0   \n",
       "603              0              0            0               0              0   \n",
       "604              0              0            0               0              0   \n",
       "605              0              0            0               0              0   \n",
       "606              0              0            0               0              0   \n",
       "607              0              0            0               0              0   \n",
       "608              0              0            0               0              0   \n",
       "609              0              0            0               0              0   \n",
       "610              0              0            0               0              0   \n",
       "611              0              0            0               0              0   \n",
       "612              0              0            0               0              0   \n",
       "613              0              0            0               0              0   \n",
       "614              0              0            0               0              0   \n",
       "615              0              0            0               0              0   \n",
       "616              0              0            0               0              0   \n",
       "617              0              0            0               0              0   \n",
       "618              0              0            0               0              0   \n",
       "619              0              0            0               0              0   \n",
       "620              0              0            0               0              0   \n",
       "621              0              0            0               0              0   \n",
       "622              0              0            0               0              0   \n",
       "623              0              0            0               0              0   \n",
       "\n",
       "     Country_Spain  Country_Taiwan  Country_Thailand  Country_UK  Country_USA  \n",
       "0                0               0                 0           0            0  \n",
       "1                0               0                 0           0            0  \n",
       "2                0               0                 0           0            0  \n",
       "3                0               0                 0           0            0  \n",
       "4                0               0                 0           0            0  \n",
       "5                0               0                 0           0            0  \n",
       "6                0               0                 0           0            1  \n",
       "7                0               0                 0           0            1  \n",
       "8                0               0                 0           0            1  \n",
       "9                0               0                 0           0            1  \n",
       "10               0               0                 0           0            0  \n",
       "11               0               0                 0           0            0  \n",
       "12               0               0                 0           0            0  \n",
       "13               0               0                 0           0            0  \n",
       "14               0               0                 0           0            1  \n",
       "15               0               0                 0           0            1  \n",
       "16               0               0                 0           0            1  \n",
       "17               0               0                 0           0            1  \n",
       "18               0               0                 0           0            1  \n",
       "19               0               0                 0           0            1  \n",
       "20               0               0                 0           0            1  \n",
       "21               0               0                 0           0            1  \n",
       "22               0               0                 0           0            1  \n",
       "23               0               0                 0           0            1  \n",
       "24               0               0                 0           0            1  \n",
       "25               0               0                 0           0            1  \n",
       "26               0               0                 0           0            1  \n",
       "27               0               0                 0           0            1  \n",
       "28               0               0                 0           0            1  \n",
       "29               0               0                 0           0            0  \n",
       "..             ...             ...               ...         ...          ...  \n",
       "594              0               0                 0           0            1  \n",
       "595              0               0                 0           0            1  \n",
       "596              0               0                 0           0            1  \n",
       "597              0               0                 0           0            1  \n",
       "598              0               0                 0           0            0  \n",
       "599              0               0                 0           0            0  \n",
       "600              0               0                 0           0            0  \n",
       "601              0               0                 0           0            0  \n",
       "602              0               0                 0           0            0  \n",
       "603              0               0                 0           0            1  \n",
       "604              0               0                 0           0            1  \n",
       "605              0               0                 0           0            1  \n",
       "606              0               0                 0           0            1  \n",
       "607              0               0                 0           0            1  \n",
       "608              0               0                 0           0            1  \n",
       "609              0               0                 0           0            1  \n",
       "610              0               0                 0           0            1  \n",
       "611              0               0                 0           0            1  \n",
       "612              0               0                 0           0            1  \n",
       "613              0               0                 0           0            1  \n",
       "614              0               0                 0           0            1  \n",
       "615              0               0                 0           0            1  \n",
       "616              0               0                 0           0            1  \n",
       "617              0               0                 0           0            1  \n",
       "618              0               0                 0           0            1  \n",
       "619              0               0                 0           0            1  \n",
       "620              0               0                 0           0            0  \n",
       "621              0               0                 0           0            0  \n",
       "622              0               0                 0           0            0  \n",
       "623              0               0                 0           0            0  \n",
       "\n",
       "[619 rows x 42 columns]"
      ]
     },
     "execution_count": 633,
     "metadata": {},
     "output_type": "execute_result"
    }
   ],
   "source": [
    "one_hot_room"
   ]
  },
  {
   "cell_type": "code",
   "execution_count": 634,
   "metadata": {},
   "outputs": [],
   "source": [
    "def plot_corr(df):\n",
    "    f, ax = plt.subplots(figsize=(20,16))\n",
    "    corr = df.corr()\n",
    "    mask = np.zeros_like(corr, dtype=np.bool)\n",
    "    mask[np.triu_indices_from(mask)] = True\n",
    "    return sns.heatmap(corr, mask=mask,\n",
    "cmap=sns.palplot(sns.cubehelix_palette(8)),square=True,ax=ax)"
   ]
  },
  {
   "cell_type": "code",
   "execution_count": 635,
   "metadata": {},
   "outputs": [],
   "source": [
    "data_dummies=pd.DataFrame()"
   ]
  },
  {
   "cell_type": "code",
   "execution_count": 638,
   "metadata": {},
   "outputs": [
    {
     "data": {
      "text/plain": [
       "<matplotlib.axes._subplots.AxesSubplot at 0x1a1fd45128>"
      ]
     },
     "execution_count": 638,
     "metadata": {},
     "output_type": "execute_result"
    },
    {
     "data": {
      "image/png": "[encoded data removed]",
      "text/plain": [
       "<Figure size 1440x1152 with 2 Axes>"
      ]
     },
     "metadata": {},
     "output_type": "display_data"
    },
    {
     "data": {
      "image/png": "[encoded data removed]",
      "text/plain": [
       "<Figure size 576x72 with 1 Axes>"
      ]
     },
     "metadata": {},
     "output_type": "display_data"
    }
   ],
   "source": [
    "one_hot_room=pd.get_dummies(data[['Genre','GoldRelease','IssueDataOfGoldenWeek','Country']])\n",
    "#one_hot_room\n",
    "data_dummies=pd.merge(data[['Budget','ReleaseInfo','Runtime']],one_hot_room,on=data.index)\n",
    "#data\n",
    "# correlation matrix for general features\n",
    "plot_corr(data_dummies.iloc[:,1:])\n",
    "#data_dummies.iloc[:,1:].head()"
   ]
  },
  {
   "cell_type": "code",
   "execution_count": 759,
   "metadata": {},
   "outputs": [
    {
     "data": {
      "image/png": "[encoded data removed]",
      "text/plain": [
       "<Figure size 1204.67x720 with 1 Axes>"
      ]
     },
     "metadata": {},
     "output_type": "display_data"
    }
   ],
   "source": [
    "#f,ax=plt.subplots(figsize=(20,20))\n",
    "#sns.boxplot(x='GoldRelease',y='Gross',hue='IssueDataOfGoldenWeek',data=data,palette='vlag',)\n",
    "sns.set(style=\"whitegrid\")\n",
    "sns.catplot(x=\"GoldRelease\", y=\"log_gross\",\n",
    "                 hue=\"IssueDataOfGoldenWeek\", \n",
    "                 data=data, kind=\"boxen\",\n",
    "                 height=10, aspect=1.5,palette='Set2',margin_titles=True);\n"
   ]
  },
  {
   "cell_type": "code",
   "execution_count": 760,
   "metadata": {},
   "outputs": [
    {
     "data": {
      "text/plain": [
       "<matplotlib.axes._subplots.AxesSubplot at 0x1a1fd57c18>"
      ]
     },
     "execution_count": 760,
     "metadata": {},
     "output_type": "execute_result"
    },
    {
     "data": {
      "image/png": "[encoded data removed]",
      "text/plain": [
       "<Figure size 1440x1440 with 1 Axes>"
      ]
     },
     "metadata": {},
     "output_type": "display_data"
    }
   ],
   "source": [
    "f,axx=plt.subplots(figsize=(20,20))\n",
    "sns.boxplot(x='GoldRelease',y='log_gross',data=data,palette='vlag')"
   ]
  },
  {
   "cell_type": "markdown",
   "metadata": {},
   "source": [
    "#### budget and gross"
   ]
  },
  {
   "cell_type": "code",
   "execution_count": 761,
   "metadata": {},
   "outputs": [
    {
     "data": {
      "text/plain": [
       "<matplotlib.axes._subplots.AxesSubplot at 0x1a3218ff60>"
      ]
     },
     "execution_count": 761,
     "metadata": {},
     "output_type": "execute_result"
    },
    {
     "data": {
      "image/png": "[encoded data removed]",
      "text/plain": [
       "<Figure size 1440x1440 with 1 Axes>"
      ]
     },
     "metadata": {},
     "output_type": "display_data"
    }
   ],
   "source": [
    "f,ax=plt.subplots(figsize=(20,20))\n",
    "sns.distplot(data.Gross,)"
   ]
  },
  {
   "cell_type": "code",
   "execution_count": 762,
   "metadata": {},
   "outputs": [
    {
     "data": {
      "image/png": "[encoded data removed]",
      "text/plain": [
       "<Figure size 504x504 with 3 Axes>"
      ]
     },
     "metadata": {},
     "output_type": "display_data"
    }
   ],
   "source": [
    "sns.set(style=\"darkgrid\")\n",
    "g = sns.jointplot(\"Budget\", \"Gross\", data=data, kind=\"reg\",\n",
    "                   color=\"m\", height=7)"
   ]
  },
  {
   "cell_type": "code",
   "execution_count": 763,
   "metadata": {},
   "outputs": [
    {
     "data": {
      "image/png": "[encoded data removed]",
      "text/plain": [
       "<Figure size 504x504 with 3 Axes>"
      ]
     },
     "metadata": {},
     "output_type": "display_data"
    }
   ],
   "source": [
    "sns.set(style=\"darkgrid\")\n",
    "g = sns.jointplot('Budget','log_gross', data=data, kind=\"reg\",\n",
    "                   color=\"m\", height=7)\n"
   ]
  },
  {
   "cell_type": "code",
   "execution_count": null,
   "metadata": {},
   "outputs": [],
   "source": []
  },
  {
   "cell_type": "code",
   "execution_count": 786,
   "metadata": {},
   "outputs": [
    {
     "data": {
      "text/plain": [
       "<matplotlib.legend.Legend at 0x1a3e60eb00>"
      ]
     },
     "execution_count": 786,
     "metadata": {},
     "output_type": "execute_result"
    },
    {
     "data": {
      "image/png": "[encoded data removed]",
      "text/plain": [
       "<Figure size 1174.85x1080 with 1 Axes>"
      ]
     },
     "metadata": {},
     "output_type": "display_data"
    }
   ],
   "source": [
    "#f, ax=plt.subplots(figsize=(10,10))\n",
    "sns.relplot(x=\"Budget\", y=\"log_gross\", hue='Country', size='Gross', \n",
    "                style=None, data=data, alpha=0.7,\n",
    "                col_wrap=None, row_order=None, col_order=None, hue_order=None, hue_norm=None, \n",
    "                sizes=(10,500), size_order=None, size_norm=None, markers=None, dashes=None, \n",
    "                style_order=None, legend='brief', kind='scatter', height=15, \n",
    "                aspect=1, facet_kws=None)\n",
    "plt.title('Producing Country related to the Gross',)\n",
    "sns.regplot(x='Budget',y='log_gross',data=data[data['Country']=='China'],label='China',scatter=False)\n",
    "sns.regplot(x='Budget',y='log_gross',data=data[data['Country']=='USA'],label='USA',scatter=False)\n",
    "plt.legend(labels=['China','USA'])"
   ]
  },
  {
   "cell_type": "markdown",
   "metadata": {},
   "source": [
    "data preprocessing for modeling"
   ]
  },
  {
   "cell_type": "code",
   "execution_count": 643,
   "metadata": {},
   "outputs": [],
   "source": [
    "from sklearn import preprocessing"
   ]
  },
  {
   "cell_type": "code",
   "execution_count": 644,
   "metadata": {},
   "outputs": [],
   "source": [
    "pt = preprocessing.PowerTransformer(method='box-cox', standardize=False)\n",
    "tran_gross=pt.fit(np.array(data.Gross).reshape((-1,1)))\n",
    "#tran_gross=pt.transform(tran_gorss)\n",
    "tran_gross=tran_gross.transform(np.array(data.Gross).reshape((-1,1)))\n"
   ]
  },
  {
   "cell_type": "code",
   "execution_count": 645,
   "metadata": {},
   "outputs": [],
   "source": [
    "data['tran_gross']=tran_gross"
   ]
  },
  {
   "cell_type": "code",
   "execution_count": 835,
   "metadata": {},
   "outputs": [
    {
     "data": {
      "text/plain": [
       "Text(0.5, 1.0, 'box-cox transformation')"
      ]
     },
     "execution_count": 835,
     "metadata": {},
     "output_type": "execute_result"
    },
    {
     "data": {
      "image/png": "[encoded data removed]",
      "text/plain": [
       "<Figure size 432x288 with 1 Axes>"
      ]
     },
     "metadata": {},
     "output_type": "display_data"
    }
   ],
   "source": [
    "plt.hist(tran_gross)\n",
    "plt.title('box-cox transformation')"
   ]
  },
  {
   "cell_type": "code",
   "execution_count": 836,
   "metadata": {},
   "outputs": [
    {
     "data": {
      "text/plain": [
       "Text(0.5, 1.0, 'log-skew-normal transformation')"
      ]
     },
     "execution_count": 836,
     "metadata": {},
     "output_type": "execute_result"
    },
    {
     "data": {
      "image/png": "[encoded data removed]",
      "text/plain": [
       "<Figure size 432x288 with 1 Axes>"
      ]
     },
     "metadata": {},
     "output_type": "display_data"
    }
   ],
   "source": [
    "plt.hist(data.log_gross)\n",
    "plt.title('log-skew-normal transformation')"
   ]
  },
  {
   "cell_type": "code",
   "execution_count": 648,
   "metadata": {},
   "outputs": [
    {
     "data": {
      "image/png": "[encoded data removed]",
      "text/plain": [
       "<Figure size 504x504 with 3 Axes>"
      ]
     },
     "metadata": {},
     "output_type": "display_data"
    }
   ],
   "source": [
    "sns.set(style=\"darkgrid\")\n",
    "g = sns.jointplot('Budget','tran_gross', data=data, kind=\"reg\",\n",
    "                   color=\"m\", height=7)"
   ]
  },
  {
   "cell_type": "markdown",
   "metadata": {},
   "source": [
    "### modeling\n",
    "- GoldRelease is a interesting features\n",
    "- Genre has no significant covariance, but the data point is unbalanced\n",
    "- it's better to put log_gross into analyze and Budget has a positive impact of log_gross"
   ]
  },
  {
   "cell_type": "markdown",
   "metadata": {},
   "source": [
    "#### validation\n",
    "- 10 fold out\n",
    "- 75% traning 25% testing"
   ]
  },
  {
   "cell_type": "code",
   "execution_count": 840,
   "metadata": {},
   "outputs": [],
   "source": [
    "import sklearn\n",
    "from sklearn.linear_model import LinearRegression"
   ]
  },
  {
   "cell_type": "code",
   "execution_count": 841,
   "metadata": {
    "scrolled": true
   },
   "outputs": [],
   "source": [
    "data_fit=pd.merge(data[['log_gross','Budget','ReleaseInfo','Runtime']],one_hot_room,on=data.index)\n",
    "#data\n",
    "data_fit=data_fit.drop(labels='key_0',axis=1)"
   ]
  },
  {
   "cell_type": "code",
   "execution_count": 842,
   "metadata": {},
   "outputs": [
    {
     "name": "stderr",
     "output_type": "stream",
     "text": [
      "/anaconda3/lib/python3.6/site-packages/sklearn/model_selection/_split.py:2179: FutureWarning: From version 0.21, test_size will always complement train_size unless both are specified.\n",
      "  FutureWarning)\n"
     ]
    }
   ],
   "source": [
    "\n",
    "indexes=sklearn.model_selection.train_test_split(data_fit.index,train_size=0.75)\n",
    "train=data_fit.loc[indexes[0],:]\n",
    "test=data_fit.loc[indexes[1],:]\n"
   ]
  },
  {
   "cell_type": "code",
   "execution_count": 843,
   "metadata": {},
   "outputs": [
    {
     "name": "stdout",
     "output_type": "stream",
     "text": [
      "(155, 48) (464, 48)\n"
     ]
    }
   ],
   "source": [
    "print(test.shape,train.shape)"
   ]
  },
  {
   "cell_type": "markdown",
   "metadata": {},
   "source": [
    "### model method\n",
    "#### regression\n",
    "- OLS\n",
    "- lasso Regression"
   ]
  },
  {
   "cell_type": "code",
   "execution_count": 844,
   "metadata": {},
   "outputs": [],
   "source": [
    "X=train.drop(labels=['log_gross','GoldRelease_0','GoldRelease_1'],axis=1)\n",
    "y=train.log_gross"
   ]
  },
  {
   "cell_type": "code",
   "execution_count": 845,
   "metadata": {},
   "outputs": [],
   "source": [
    "X_test=test.drop(labels=['log_gross','GoldRelease_0','GoldRelease_1'],axis=1)\n",
    "y_test=test.log_gross"
   ]
  },
  {
   "cell_type": "code",
   "execution_count": 846,
   "metadata": {},
   "outputs": [],
   "source": [
    "reg=LinearRegression().fit(X,y)"
   ]
  },
  {
   "cell_type": "code",
   "execution_count": 847,
   "metadata": {},
   "outputs": [
    {
     "name": "stdout",
     "output_type": "stream",
     "text": [
      "score: 0.45246764798303496 \n",
      "MSE: 0.5631807735200034\n"
     ]
    }
   ],
   "source": [
    "pred=reg.predict(X)\n",
    "R_2=reg.score(X,y)\n",
    "mse=np.mean((pred-y)**2)\n",
    "print('score:',R_2,'\\nMSE:',mse)"
   ]
  },
  {
   "cell_type": "markdown",
   "metadata": {},
   "source": [
    "Lasso"
   ]
  },
  {
   "cell_type": "code",
   "execution_count": 848,
   "metadata": {},
   "outputs": [],
   "source": [
    "from sklearn import linear_model"
   ]
  },
  {
   "cell_type": "code",
   "execution_count": 849,
   "metadata": {},
   "outputs": [],
   "source": [
    "reg_lasso=linear_model.LassoCV(alphas=[0.01,0.1,0.2,0.5,1],\n",
    "                              fit_intercept=False, cv=5)"
   ]
  },
  {
   "cell_type": "code",
   "execution_count": 853,
   "metadata": {},
   "outputs": [
    {
     "name": "stderr",
     "output_type": "stream",
     "text": [
      "/anaconda3/lib/python3.6/site-packages/sklearn/linear_model/coordinate_descent.py:492: ConvergenceWarning: Objective did not converge. You might want to increase the number of iterations. Fitting data with very small alpha may cause precision problems.\n",
      "  ConvergenceWarning)\n",
      "/anaconda3/lib/python3.6/site-packages/sklearn/linear_model/coordinate_descent.py:492: ConvergenceWarning: Objective did not converge. You might want to increase the number of iterations. Fitting data with very small alpha may cause precision problems.\n",
      "  ConvergenceWarning)\n",
      "/anaconda3/lib/python3.6/site-packages/sklearn/linear_model/coordinate_descent.py:492: ConvergenceWarning: Objective did not converge. You might want to increase the number of iterations. Fitting data with very small alpha may cause precision problems.\n",
      "  ConvergenceWarning)\n",
      "/anaconda3/lib/python3.6/site-packages/sklearn/linear_model/coordinate_descent.py:492: ConvergenceWarning: Objective did not converge. You might want to increase the number of iterations. Fitting data with very small alpha may cause precision problems.\n",
      "  ConvergenceWarning)\n",
      "/anaconda3/lib/python3.6/site-packages/sklearn/linear_model/coordinate_descent.py:492: ConvergenceWarning: Objective did not converge. You might want to increase the number of iterations. Fitting data with very small alpha may cause precision problems.\n",
      "  ConvergenceWarning)\n",
      "/anaconda3/lib/python3.6/site-packages/sklearn/linear_model/coordinate_descent.py:492: ConvergenceWarning: Objective did not converge. You might want to increase the number of iterations. Fitting data with very small alpha may cause precision problems.\n",
      "  ConvergenceWarning)\n"
     ]
    },
    {
     "data": {
      "text/plain": [
       "LassoCV(alphas=[0.01, 0.1, 0.2, 0.5, 1], copy_X=True, cv=5, eps=0.001,\n",
       "    fit_intercept=False, max_iter=1000, n_alphas=100, n_jobs=None,\n",
       "    normalize=False, positive=False, precompute='auto', random_state=None,\n",
       "    selection='cyclic', tol=0.0001, verbose=False)"
      ]
     },
     "execution_count": 853,
     "metadata": {},
     "output_type": "execute_result"
    }
   ],
   "source": [
    "reg_lasso.fit(X,y)"
   ]
  },
  {
   "cell_type": "code",
   "execution_count": 854,
   "metadata": {},
   "outputs": [],
   "source": [
    "pred=reg_lasso.predict(X)\n",
    "R_2=reg_lasso.score(X,y)\n",
    "mse=np.mean((pred-y)**2)"
   ]
  },
  {
   "cell_type": "code",
   "execution_count": 855,
   "metadata": {},
   "outputs": [
    {
     "name": "stdout",
     "output_type": "stream",
     "text": [
      "score: 0.27873754726750033 \n",
      "MSE: 0.7418760636599572\n"
     ]
    }
   ],
   "source": [
    "print('score:',R_2,'\\nMSE:',mse)"
   ]
  },
  {
   "cell_type": "markdown",
   "metadata": {},
   "source": [
    "\n",
    "\n",
    "#### classification \n",
    "- logistics regression\n",
    "- CART\n",
    "- xgboost\n",
    "- neural network (if time allow)\n",
    "- SVM"
   ]
  },
  {
   "cell_type": "markdown",
   "metadata": {},
   "source": [
    "**classify the gross 4 folds**"
   ]
  },
  {
   "cell_type": "code",
   "execution_count": null,
   "metadata": {},
   "outputs": [],
   "source": []
  },
  {
   "cell_type": "code",
   "execution_count": 865,
   "metadata": {},
   "outputs": [],
   "source": [
    "gross_class =pd.qcut(data.log_gross,\n",
    "                     q=[0,0.25,0.5,0.75,1],\n",
    "                    labels=[1,2,3,4],\n",
    "                    retbins=True)\n",
    "data_fit['gross_class']=gross_class[0]\n",
    "data_fit=data_fit.dropna(axis=0)\n",
    "data_fit.index=range(len(data_fit.index))\n",
    "indexes=sklearn.model_selection.train_test_split(data_fit.index,train_size=0.75)\n",
    "train=data_fit.loc[indexes[0],:]\n",
    "test=data_fit.loc[indexes[1],:]\n",
    "X=train.drop(labels=['log_gross','GoldRelease_0','GoldRelease_1','gross_class'],axis=1)\n",
    "X_test=test.drop(labels=['log_gross','GoldRelease_0','GoldRelease_1','gross_class'],axis=1)\n",
    "y=train.gross_class\n",
    "y_test=test.gross_class"
   ]
  },
  {
   "cell_type": "code",
   "execution_count": 866,
   "metadata": {},
   "outputs": [
    {
     "data": {
      "text/plain": [
       "CategoricalDtype(categories=[1, 2, 3, 4], ordered=True)"
      ]
     },
     "execution_count": 866,
     "metadata": {},
     "output_type": "execute_result"
    }
   ],
   "source": [
    "y.dtype"
   ]
  },
  {
   "cell_type": "markdown",
   "metadata": {},
   "source": [
    "#### Logistics regression"
   ]
  },
  {
   "cell_type": "code",
   "execution_count": null,
   "metadata": {},
   "outputs": [],
   "source": []
  },
  {
   "cell_type": "code",
   "execution_count": 867,
   "metadata": {},
   "outputs": [],
   "source": [
    "lreg=sklearn.linear_model.LogisticRegression(penalty='l2',\n",
    "                                             tol=0.0001,\n",
    "                                             C=1.0, \n",
    "                                             fit_intercept=False, \n",
    "                                             intercept_scaling=1, \n",
    "                                             class_weight=None, \n",
    "                                             random_state=None, \n",
    "                                             solver='lbfgs', \n",
    "                                             max_iter=100, \n",
    "                                             multi_class='multinomial',\n",
    "                                             verbose=0,\n",
    "                                             warm_start=False, \n",
    "                                             n_jobs=None)"
   ]
  },
  {
   "cell_type": "code",
   "execution_count": 868,
   "metadata": {},
   "outputs": [
    {
     "data": {
      "text/plain": [
       "LogisticRegression(C=1.0, class_weight=None, dual=False, fit_intercept=False,\n",
       "          intercept_scaling=1, max_iter=100, multi_class='multinomial',\n",
       "          n_jobs=None, penalty='l2', random_state=None, solver='lbfgs',\n",
       "          tol=0.0001, verbose=0, warm_start=False)"
      ]
     },
     "execution_count": 868,
     "metadata": {},
     "output_type": "execute_result"
    }
   ],
   "source": [
    "lreg.fit(X,y)"
   ]
  },
  {
   "cell_type": "code",
   "execution_count": 869,
   "metadata": {},
   "outputs": [],
   "source": [
    "pred=lreg.predict(X)\n",
    "prob=lreg.predict_proba(X)"
   ]
  },
  {
   "cell_type": "code",
   "execution_count": 870,
   "metadata": {},
   "outputs": [
    {
     "data": {
      "text/plain": [
       "0.25877192982456143"
      ]
     },
     "execution_count": 870,
     "metadata": {},
     "output_type": "execute_result"
    }
   ],
   "source": [
    "lreg.score(X,y)"
   ]
  },
  {
   "cell_type": "code",
   "execution_count": null,
   "metadata": {},
   "outputs": [],
   "source": []
  },
  {
   "cell_type": "markdown",
   "metadata": {},
   "source": [
    "**Testing Models**"
   ]
  },
  {
   "cell_type": "code",
   "execution_count": 668,
   "metadata": {},
   "outputs": [
    {
     "name": "stdout",
     "output_type": "stream",
     "text": [
      "Nearest Neighbors : accuracy:  0.9391304347826087 \n",
      "\n",
      "Nearest Neighbors : variance:  0.7987012987012987 \n",
      "\n",
      "RBF SVM : accuracy:  0.8565217391304348 \n",
      "\n",
      "RBF SVM : variance:  0.2662337662337662 \n",
      "\n",
      "Decision Tree : accuracy:  0.6347826086956522 \n",
      "\n",
      "Decision Tree : variance:  0.538961038961039 \n",
      "\n",
      "Random Forest : accuracy:  0.7782608695652173 \n",
      "\n",
      "Random Forest : variance:  0.577922077922078 \n",
      "\n",
      "AdaBoost : accuracy:  0.5695652173913044 \n",
      "\n",
      "AdaBoost : variance:  0.45454545454545453 \n",
      "\n",
      "Naive Bayes : accuracy:  0.33260869565217394 \n",
      "\n",
      "Naive Bayes : variance:  0.33116883116883117 \n",
      "\n"
     ]
    }
   ],
   "source": [
    "\n",
    "import numpy as np\n",
    "import matplotlib.pyplot as plt\n",
    "from matplotlib.colors import ListedColormap\n",
    "from sklearn.model_selection import train_test_split\n",
    "from sklearn.preprocessing import StandardScaler\n",
    "from sklearn.datasets import make_moons, make_circles, make_classification\n",
    "from sklearn.neural_network import MLPClassifier\n",
    "from sklearn.neighbors import KNeighborsClassifier\n",
    "from sklearn.svm import SVC\n",
    "from sklearn.gaussian_process import GaussianProcessClassifier\n",
    "from sklearn.gaussian_process.kernels import RBF\n",
    "from sklearn.tree import DecisionTreeClassifier\n",
    "from sklearn.ensemble import RandomForestClassifier, AdaBoostClassifier\n",
    "from sklearn.naive_bayes import GaussianNB\n",
    "from sklearn.discriminant_analysis import QuadraticDiscriminantAnalysis\n",
    "h = .02  # step size in the mesh\n",
    "\n",
    "names = [\"Nearest Neighbors\", \n",
    "         #\"Linear SVM\", \n",
    "         \"RBF SVM\", \n",
    "         #\"Gaussian Process\",\n",
    "         \"Decision Tree\", \n",
    "         \"Random Forest\", \n",
    "         #\"Neural Net\",\n",
    "         \"AdaBoost\",\n",
    "         \"Naive Bayes\", \n",
    "         #\"QDA\"\n",
    "        ]\n",
    "\n",
    "classifiers = [\n",
    "    KNeighborsClassifier(3),\n",
    "    #SVC(kernel=\"linear\", max_iter=1000),\n",
    "    SVC(gamma=2, C=1,max_iter=1000),\n",
    "    #GaussianProcessClassifier(1.0 * RBF(1.0)),\n",
    "    DecisionTreeClassifier(max_depth=5),\n",
    "    RandomForestClassifier(max_depth=5, n_estimators=100, max_features=5),\n",
    "    #MLPClassifier(alpha=1),\n",
    "    AdaBoostClassifier(),\n",
    "    GaussianNB(),\n",
    "    #QuadraticDiscriminantAnalysis()\n",
    "]\n",
    "\n",
    "for name, clf in zip(names, classifiers):\n",
    "        #ax = plt.subplot(len(datasets), len(classifiers) + 1, i)\n",
    "        clf.fit(X, y)\n",
    "        bias=clf.score(X,y)\n",
    "        print(name,':','accuracy: ',bias,'\\n')\n",
    "        var = clf.score(X_test, y_test)\n",
    "        print(name,':','variance: ',var,'\\n')"
   ]
  },
  {
   "cell_type": "markdown",
   "metadata": {},
   "source": [
    "**PCA**"
   ]
  },
  {
   "cell_type": "code",
   "execution_count": 669,
   "metadata": {},
   "outputs": [],
   "source": [
    "from sklearn.decomposition import PCA"
   ]
  },
  {
   "cell_type": "code",
   "execution_count": 670,
   "metadata": {},
   "outputs": [
    {
     "name": "stdout",
     "output_type": "stream",
     "text": [
      "460 154\n"
     ]
    },
    {
     "name": "stderr",
     "output_type": "stream",
     "text": [
      "/anaconda3/lib/python3.6/site-packages/sklearn/model_selection/_split.py:2179: FutureWarning: From version 0.21, test_size will always complement train_size unless both are specified.\n",
      "  FutureWarning)\n"
     ]
    }
   ],
   "source": [
    "indexes=sklearn.model_selection.train_test_split(data_fit.index,train_size=0.75)\n",
    "y=data_fit.loc[indexes[0],'gross_class']\n",
    "y_test=data_fit.loc[indexes[1],'gross_class']\n",
    "print(len(indexes[0]),len(indexes[1]))"
   ]
  },
  {
   "cell_type": "code",
   "execution_count": 671,
   "metadata": {},
   "outputs": [],
   "source": [
    "train_pca=[]\n",
    "test_pca=[]\n",
    "for i in range(2,7):\n",
    "    pca=PCA(n_components=i,)\n",
    "    data_=data_fit.drop(labels=['log_gross','GoldRelease_0','GoldRelease_1','gross_class'],axis=1)\n",
    "    data_= pca.fit_transform(data_)\n",
    "    \n",
    "    train_pca.append(data_[indexes[0]])\n",
    "    test_pca.append(data_[indexes[1]])\n",
    "\n",
    "    "
   ]
  },
  {
   "cell_type": "code",
   "execution_count": 672,
   "metadata": {},
   "outputs": [],
   "source": [
    "from collections import defaultdict\n",
    "\n",
    "bias_ = defaultdict(list)\n",
    "variance_ = defaultdict(list)"
   ]
  },
  {
   "cell_type": "code",
   "execution_count": 673,
   "metadata": {},
   "outputs": [
    {
     "name": "stdout",
     "output_type": "stream",
     "text": [
      "=========using 2 components========\n",
      "Nearest Neighbors : accuracy:  0.9304347826086956 \n",
      "\n",
      "Nearest Neighbors : variance:  0.7467532467532467 \n",
      "\n",
      "Linear SVM : accuracy:  0.3456521739130435 \n",
      "\n",
      "Linear SVM : variance:  0.3246753246753247 \n",
      "\n",
      "RBF SVM : accuracy:  0.9760869565217392 \n",
      "\n",
      "RBF SVM : variance:  0.8961038961038961 \n",
      "\n"
     ]
    },
    {
     "name": "stderr",
     "output_type": "stream",
     "text": [
      "/anaconda3/lib/python3.6/site-packages/sklearn/svm/base.py:244: ConvergenceWarning: Solver terminated early (max_iter=1000).  Consider pre-processing your data with StandardScaler or MinMaxScaler.\n",
      "  % self.max_iter, ConvergenceWarning)\n"
     ]
    },
    {
     "name": "stdout",
     "output_type": "stream",
     "text": [
      "Gaussian Process : accuracy:  0.9760869565217392 \n",
      "\n",
      "Gaussian Process : variance:  0.8961038961038961 \n",
      "\n",
      "Neural Net : accuracy:  0.3282608695652174 \n",
      "\n",
      "Neural Net : variance:  0.2792207792207792 \n",
      "\n",
      "AdaBoost : accuracy:  0.6152173913043478 \n",
      "\n",
      "AdaBoost : variance:  0.577922077922078 \n",
      "\n",
      "Naive Bayes : accuracy:  0.34130434782608693 \n",
      "\n",
      "Naive Bayes : variance:  0.3181818181818182 \n",
      "\n",
      "QDA : accuracy:  0.3760869565217391 \n",
      "\n",
      "QDA : variance:  0.3116883116883117 \n",
      "\n",
      "=========using 3 components========\n",
      "Nearest Neighbors : accuracy:  0.9326086956521739 \n",
      "\n",
      "Nearest Neighbors : variance:  0.7662337662337663 \n",
      "\n",
      "Linear SVM : accuracy:  0.3391304347826087 \n",
      "\n",
      "Linear SVM : variance:  0.33766233766233766 \n",
      "\n",
      "RBF SVM : accuracy:  0.9760869565217392 \n",
      "\n",
      "RBF SVM : variance:  0.8961038961038961 \n",
      "\n"
     ]
    },
    {
     "name": "stderr",
     "output_type": "stream",
     "text": [
      "/anaconda3/lib/python3.6/site-packages/sklearn/svm/base.py:244: ConvergenceWarning: Solver terminated early (max_iter=1000).  Consider pre-processing your data with StandardScaler or MinMaxScaler.\n",
      "  % self.max_iter, ConvergenceWarning)\n"
     ]
    },
    {
     "name": "stdout",
     "output_type": "stream",
     "text": [
      "Gaussian Process : accuracy:  0.9760869565217392 \n",
      "\n",
      "Gaussian Process : variance:  0.8961038961038961 \n",
      "\n",
      "Neural Net : accuracy:  0.34130434782608693 \n",
      "\n",
      "Neural Net : variance:  0.2532467532467532 \n",
      "\n",
      "AdaBoost : accuracy:  0.5739130434782609 \n",
      "\n",
      "AdaBoost : variance:  0.487012987012987 \n",
      "\n",
      "Naive Bayes : accuracy:  0.34130434782608693 \n",
      "\n",
      "Naive Bayes : variance:  0.3181818181818182 \n",
      "\n",
      "QDA : accuracy:  0.3782608695652174 \n",
      "\n",
      "QDA : variance:  0.2857142857142857 \n",
      "\n",
      "=========using 4 components========\n",
      "Nearest Neighbors : accuracy:  0.9347826086956522 \n",
      "\n",
      "Nearest Neighbors : variance:  0.7857142857142857 \n",
      "\n",
      "Linear SVM : accuracy:  0.3391304347826087 \n",
      "\n",
      "Linear SVM : variance:  0.33766233766233766 \n",
      "\n",
      "RBF SVM : accuracy:  0.9804347826086957 \n",
      "\n",
      "RBF SVM : variance:  0.9025974025974026 \n",
      "\n"
     ]
    },
    {
     "name": "stderr",
     "output_type": "stream",
     "text": [
      "/anaconda3/lib/python3.6/site-packages/sklearn/svm/base.py:244: ConvergenceWarning: Solver terminated early (max_iter=1000).  Consider pre-processing your data with StandardScaler or MinMaxScaler.\n",
      "  % self.max_iter, ConvergenceWarning)\n"
     ]
    },
    {
     "name": "stdout",
     "output_type": "stream",
     "text": [
      "Gaussian Process : accuracy:  0.9804347826086957 \n",
      "\n",
      "Gaussian Process : variance:  0.9025974025974026 \n",
      "\n",
      "Neural Net : accuracy:  0.17173913043478262 \n",
      "\n",
      "Neural Net : variance:  0.2012987012987013 \n",
      "\n",
      "AdaBoost : accuracy:  0.5978260869565217 \n",
      "\n",
      "AdaBoost : variance:  0.538961038961039 \n",
      "\n",
      "Naive Bayes : accuracy:  0.34130434782608693 \n",
      "\n",
      "Naive Bayes : variance:  0.3181818181818182 \n",
      "\n",
      "QDA : accuracy:  0.3760869565217391 \n",
      "\n",
      "QDA : variance:  0.3181818181818182 \n",
      "\n",
      "=========using 5 components========\n",
      "Nearest Neighbors : accuracy:  0.9347826086956522 \n",
      "\n",
      "Nearest Neighbors : variance:  0.7857142857142857 \n",
      "\n",
      "Linear SVM : accuracy:  0.3391304347826087 \n",
      "\n",
      "Linear SVM : variance:  0.33766233766233766 \n",
      "\n",
      "RBF SVM : accuracy:  0.9804347826086957 \n",
      "\n",
      "RBF SVM : variance:  0.9025974025974026 \n",
      "\n"
     ]
    },
    {
     "name": "stderr",
     "output_type": "stream",
     "text": [
      "/anaconda3/lib/python3.6/site-packages/sklearn/svm/base.py:244: ConvergenceWarning: Solver terminated early (max_iter=1000).  Consider pre-processing your data with StandardScaler or MinMaxScaler.\n",
      "  % self.max_iter, ConvergenceWarning)\n"
     ]
    },
    {
     "name": "stdout",
     "output_type": "stream",
     "text": [
      "Gaussian Process : accuracy:  0.9804347826086957 \n",
      "\n",
      "Gaussian Process : variance:  0.9025974025974026 \n",
      "\n",
      "Neural Net : accuracy:  0.1891304347826087 \n",
      "\n",
      "Neural Net : variance:  0.23376623376623376 \n",
      "\n",
      "AdaBoost : accuracy:  0.6413043478260869 \n",
      "\n",
      "AdaBoost : variance:  0.5844155844155844 \n",
      "\n",
      "Naive Bayes : accuracy:  0.34130434782608693 \n",
      "\n",
      "Naive Bayes : variance:  0.3181818181818182 \n",
      "\n",
      "QDA : accuracy:  0.4217391304347826 \n",
      "\n",
      "QDA : variance:  0.34415584415584416 \n",
      "\n",
      "=========using 6 components========\n",
      "Nearest Neighbors : accuracy:  0.9347826086956522 \n",
      "\n",
      "Nearest Neighbors : variance:  0.7857142857142857 \n",
      "\n",
      "Linear SVM : accuracy:  0.3391304347826087 \n",
      "\n",
      "Linear SVM : variance:  0.33766233766233766 \n",
      "\n",
      "RBF SVM : accuracy:  0.9782608695652174 \n",
      "\n",
      "RBF SVM : variance:  0.8961038961038961 \n",
      "\n"
     ]
    },
    {
     "name": "stderr",
     "output_type": "stream",
     "text": [
      "/anaconda3/lib/python3.6/site-packages/sklearn/svm/base.py:244: ConvergenceWarning: Solver terminated early (max_iter=1000).  Consider pre-processing your data with StandardScaler or MinMaxScaler.\n",
      "  % self.max_iter, ConvergenceWarning)\n"
     ]
    },
    {
     "name": "stdout",
     "output_type": "stream",
     "text": [
      "Gaussian Process : accuracy:  0.9804347826086957 \n",
      "\n",
      "Gaussian Process : variance:  0.9025974025974026 \n",
      "\n",
      "Neural Net : accuracy:  0.26304347826086955 \n",
      "\n",
      "Neural Net : variance:  0.2597402597402597 \n",
      "\n",
      "AdaBoost : accuracy:  0.6 \n",
      "\n",
      "AdaBoost : variance:  0.5974025974025974 \n",
      "\n",
      "Naive Bayes : accuracy:  0.34130434782608693 \n",
      "\n",
      "Naive Bayes : variance:  0.3181818181818182 \n",
      "\n",
      "QDA : accuracy:  0.5021739130434782 \n",
      "\n",
      "QDA : variance:  0.45454545454545453 \n",
      "\n"
     ]
    }
   ],
   "source": [
    "for i in range(0,5):\n",
    "    X_red=train_pca[i]\n",
    "    X_test_red=test_pca[i]\n",
    "    print(f'=========using {i+2} components========')\n",
    "    classifiers = [\n",
    "        KNeighborsClassifier(3),\n",
    "        SVC(kernel=\"linear\", max_iter=1000),\n",
    "        SVC(gamma=2, C=1,max_iter=1000),\n",
    "        GaussianProcessClassifier(1.0 * RBF(1.0)),\n",
    "        #DecisionTreeClassifier(max_depth=5),\n",
    "        #RandomForestClassifier(max_depth=5, n_estimators=100),\n",
    "        MLPClassifier(alpha=1),\n",
    "        AdaBoostClassifier(),\n",
    "        GaussianNB(),\n",
    "        QuadraticDiscriminantAnalysis()\n",
    "    ]\n",
    "    names = [\"Nearest Neighbors\", \n",
    "         \"Linear SVM\", \n",
    "         \"RBF SVM\", \n",
    "         \"Gaussian Process\",\n",
    "         #\"Decision Tree\", \n",
    "         #\"Random Forest\", \n",
    "         \"Neural Net\",\n",
    "         \"AdaBoost\",\n",
    "         \"Naive Bayes\", \n",
    "         \"QDA\"\n",
    "        ]\n",
    "\n",
    "\n",
    "\n",
    "    for name, clf in zip(names, classifiers):\n",
    "            #ax = plt.subplot(len(datasets), len(classifiers) + 1, i)\n",
    "            clf.fit(X_red, y)\n",
    "            bias=clf.score(X_red,y)\n",
    "            print(name,':','accuracy: ',bias,'\\n')\n",
    "            var = clf.score(X_test_red, y_test)\n",
    "            print(name,':','variance: ',var,'\\n')\n",
    "            \n",
    "            bias_[name].append(bias)\n",
    "            variance_[name].append(var)"
   ]
  },
  {
   "cell_type": "markdown",
   "metadata": {},
   "source": [
    "**visualize performance**"
   ]
  },
  {
   "cell_type": "code",
   "execution_count": 674,
   "metadata": {},
   "outputs": [
    {
     "name": "stderr",
     "output_type": "stream",
     "text": [
      "/anaconda3/lib/python3.6/site-packages/matplotlib/figure.py:98: MatplotlibDeprecationWarning: \n",
      "Adding an axes using the same arguments as a previous axes currently reuses the earlier instance.  In a future version, a new instance will always be created and returned.  Meanwhile, this warning can be suppressed, and the future behavior ensured, by passing a unique label to each axes instance.\n",
      "  \"Adding an axes using the same arguments as a previous axes \"\n",
      "/anaconda3/lib/python3.6/site-packages/matplotlib/figure.py:98: MatplotlibDeprecationWarning: \n",
      "Adding an axes using the same arguments as a previous axes currently reuses the earlier instance.  In a future version, a new instance will always be created and returned.  Meanwhile, this warning can be suppressed, and the future behavior ensured, by passing a unique label to each axes instance.\n",
      "  \"Adding an axes using the same arguments as a previous axes \"\n",
      "/anaconda3/lib/python3.6/site-packages/matplotlib/figure.py:98: MatplotlibDeprecationWarning: \n",
      "Adding an axes using the same arguments as a previous axes currently reuses the earlier instance.  In a future version, a new instance will always be created and returned.  Meanwhile, this warning can be suppressed, and the future behavior ensured, by passing a unique label to each axes instance.\n",
      "  \"Adding an axes using the same arguments as a previous axes \"\n",
      "/anaconda3/lib/python3.6/site-packages/matplotlib/figure.py:98: MatplotlibDeprecationWarning: \n",
      "Adding an axes using the same arguments as a previous axes currently reuses the earlier instance.  In a future version, a new instance will always be created and returned.  Meanwhile, this warning can be suppressed, and the future behavior ensured, by passing a unique label to each axes instance.\n",
      "  \"Adding an axes using the same arguments as a previous axes \"\n",
      "/anaconda3/lib/python3.6/site-packages/matplotlib/figure.py:98: MatplotlibDeprecationWarning: \n",
      "Adding an axes using the same arguments as a previous axes currently reuses the earlier instance.  In a future version, a new instance will always be created and returned.  Meanwhile, this warning can be suppressed, and the future behavior ensured, by passing a unique label to each axes instance.\n",
      "  \"Adding an axes using the same arguments as a previous axes \"\n",
      "/anaconda3/lib/python3.6/site-packages/matplotlib/figure.py:98: MatplotlibDeprecationWarning: \n",
      "Adding an axes using the same arguments as a previous axes currently reuses the earlier instance.  In a future version, a new instance will always be created and returned.  Meanwhile, this warning can be suppressed, and the future behavior ensured, by passing a unique label to each axes instance.\n",
      "  \"Adding an axes using the same arguments as a previous axes \"\n",
      "/anaconda3/lib/python3.6/site-packages/matplotlib/figure.py:98: MatplotlibDeprecationWarning: \n",
      "Adding an axes using the same arguments as a previous axes currently reuses the earlier instance.  In a future version, a new instance will always be created and returned.  Meanwhile, this warning can be suppressed, and the future behavior ensured, by passing a unique label to each axes instance.\n",
      "  \"Adding an axes using the same arguments as a previous axes \"\n",
      "/anaconda3/lib/python3.6/site-packages/matplotlib/figure.py:98: MatplotlibDeprecationWarning: \n",
      "Adding an axes using the same arguments as a previous axes currently reuses the earlier instance.  In a future version, a new instance will always be created and returned.  Meanwhile, this warning can be suppressed, and the future behavior ensured, by passing a unique label to each axes instance.\n",
      "  \"Adding an axes using the same arguments as a previous axes \"\n",
      "/anaconda3/lib/python3.6/site-packages/matplotlib/figure.py:98: MatplotlibDeprecationWarning: \n",
      "Adding an axes using the same arguments as a previous axes currently reuses the earlier instance.  In a future version, a new instance will always be created and returned.  Meanwhile, this warning can be suppressed, and the future behavior ensured, by passing a unique label to each axes instance.\n",
      "  \"Adding an axes using the same arguments as a previous axes \"\n",
      "/anaconda3/lib/python3.6/site-packages/matplotlib/figure.py:98: MatplotlibDeprecationWarning: \n",
      "Adding an axes using the same arguments as a previous axes currently reuses the earlier instance.  In a future version, a new instance will always be created and returned.  Meanwhile, this warning can be suppressed, and the future behavior ensured, by passing a unique label to each axes instance.\n",
      "  \"Adding an axes using the same arguments as a previous axes \"\n",
      "/anaconda3/lib/python3.6/site-packages/matplotlib/figure.py:98: MatplotlibDeprecationWarning: \n",
      "Adding an axes using the same arguments as a previous axes currently reuses the earlier instance.  In a future version, a new instance will always be created and returned.  Meanwhile, this warning can be suppressed, and the future behavior ensured, by passing a unique label to each axes instance.\n",
      "  \"Adding an axes using the same arguments as a previous axes \"\n",
      "/anaconda3/lib/python3.6/site-packages/matplotlib/figure.py:98: MatplotlibDeprecationWarning: \n",
      "Adding an axes using the same arguments as a previous axes currently reuses the earlier instance.  In a future version, a new instance will always be created and returned.  Meanwhile, this warning can be suppressed, and the future behavior ensured, by passing a unique label to each axes instance.\n",
      "  \"Adding an axes using the same arguments as a previous axes \"\n",
      "/anaconda3/lib/python3.6/site-packages/matplotlib/figure.py:98: MatplotlibDeprecationWarning: \n",
      "Adding an axes using the same arguments as a previous axes currently reuses the earlier instance.  In a future version, a new instance will always be created and returned.  Meanwhile, this warning can be suppressed, and the future behavior ensured, by passing a unique label to each axes instance.\n",
      "  \"Adding an axes using the same arguments as a previous axes \"\n",
      "/anaconda3/lib/python3.6/site-packages/matplotlib/figure.py:98: MatplotlibDeprecationWarning: \n",
      "Adding an axes using the same arguments as a previous axes currently reuses the earlier instance.  In a future version, a new instance will always be created and returned.  Meanwhile, this warning can be suppressed, and the future behavior ensured, by passing a unique label to each axes instance.\n",
      "  \"Adding an axes using the same arguments as a previous axes \"\n"
     ]
    },
    {
     "data": {
      "image/png": "[encoded data removed]",
      "text/plain": [
       "<Figure size 1440x1440 with 2 Axes>"
      ]
     },
     "metadata": {},
     "output_type": "display_data"
    }
   ],
   "source": [
    "f,ax=plt.subplots(1,2,figsize=(20,20))\n",
    "flatui = [\"#9b59b6\", \"#3498db\", \"#95a5a6\", \"#e74c3c\", \"#34495e\", \"#2ecc71\"]\n",
    "i=0\n",
    "for key in bias_.keys():\n",
    "    plt.subplot(221)\n",
    "    ax1=plt.plot(bias_[key],label=key)\n",
    "    plt.title('accuracy in training set')\n",
    "    plt.legend(loc=7)\n",
    "    plt.subplot(222)\n",
    "    ax2=plt.plot(variance_[key],label=key)\n",
    "    plt.title('prediction performance')\n",
    "    #sns.lineplot(x=['1','2','3','4','5'],y=variance_[key],palette=flatui)\n",
    "    #sns.pairplot(variance_[key],label='variance')\n",
    "    plt.legend()\n",
    "    "
   ]
  },
  {
   "cell_type": "markdown",
   "metadata": {},
   "source": [
    "**Prediction**"
   ]
  },
  {
   "cell_type": "code",
   "execution_count": 675,
   "metadata": {},
   "outputs": [
    {
     "data": {
      "text/plain": [
       "Index(['Budget', 'ReleaseInfo', 'Runtime', 'Genre_Action', 'Genre_Adventure',\n",
       "       'Genre_Animation', 'Genre_Biography', 'Genre_Comedy', 'Genre_Crime',\n",
       "       'Genre_Documentary', 'Genre_Drama', 'Genre_Family', 'Genre_Fantasy',\n",
       "       'Genre_History', 'Genre_Horror', 'Genre_Music', 'Genre_Musical',\n",
       "       'Genre_Mystery', 'Genre_Romance', 'Genre_Sci-Fi', 'Genre_Short',\n",
       "       'Genre_Sport', 'Genre_Thriller', 'Genre_War', 'Genre_Western',\n",
       "       'IssueDataOfGoldenWeek_1', 'IssueDataOfGoldenWeek_2',\n",
       "       'IssueDataOfGoldenWeek_3', 'IssueDataOfGoldenWeek_4',\n",
       "       'IssueDataOfGoldenWeek_5', 'Country_Australia', 'Country_China',\n",
       "       'Country_France', 'Country_Germany', 'Country_Hong', 'Country_India',\n",
       "       'Country_Japan', 'Country_New', 'Country_Poland', 'Country_South',\n",
       "       'Country_Spain', 'Country_Taiwan', 'Country_Thailand', 'Country_UK',\n",
       "       'Country_USA'],\n",
       "      dtype='object')"
      ]
     },
     "execution_count": 675,
     "metadata": {},
     "output_type": "execute_result"
    }
   ],
   "source": [
    "X.columns"
   ]
  },
  {
   "cell_type": "code",
   "execution_count": 729,
   "metadata": {},
   "outputs": [],
   "source": [
    "X_new=np.array([[200000000*0.15,2,100,1,0,0,0,0,0,0,0,0,0,0,0,0,0,0,0,0,0,0,0,0,0,0,1,0,0,0,0,1,0,0,0,0,0,0,0,0,0,0,0,0,0]\n",
    "              ,[200000000*0.15,2,100,1,0,0,0,0,0,0,0,0,0,0,0,0,0,0,0,0,0,0,0,0,0,0,1,0,0,0,0,0,0,0,1,0,0,0,0,0,0,0,0,0,0]\n",
    "              ,[200000000*0.15,2,100,0,0,0,0,0,1,0,0,0,0,0,0,0,0,0,0,0,0,0,0,0,0,0,1,0,0,0,0,1,0,0,0,0,0,0,0,0,0,0,0,0,0]\n",
    "              ,[200000000*0.15,2,100,0,0,0,0,0,1,0,0,0,0,0,0,0,0,0,0,0,0,0,0,0,0,0,1,0,0,0,0,0,0,0,1,0,0,0,0,0,0,0,0,0,0]\n",
    "              ,])"
   ]
  },
  {
   "cell_type": "code",
   "execution_count": null,
   "metadata": {},
   "outputs": [],
   "source": []
  },
  {
   "cell_type": "markdown",
   "metadata": {},
   "source": [
    "**fitting model**"
   ]
  },
  {
   "cell_type": "code",
   "execution_count": 810,
   "metadata": {},
   "outputs": [],
   "source": [
    "pca_pred=PCA(n_components=4,)\n",
    "data_=data_fit.drop(labels=['log_gross','GoldRelease_0','GoldRelease_1','gross_class'],axis=1)\n",
    "data_= pca_pred.fit_transform(data_)\n",
    "X_new_pca=pca_pred.transform(X_new)"
   ]
  },
  {
   "cell_type": "markdown",
   "metadata": {},
   "source": [
    "**prediction by Gaussian Process**"
   ]
  },
  {
   "cell_type": "code",
   "execution_count": 811,
   "metadata": {},
   "outputs": [
    {
     "name": "stderr",
     "output_type": "stream",
     "text": [
      "/anaconda3/lib/python3.6/site-packages/sklearn/utils/validation.py:761: DataConversionWarning: A column-vector y was passed when a 1d array was expected. Please change the shape of y to (n_samples, ), for example using ravel().\n",
      "  y = column_or_1d(y, warn=True)\n"
     ]
    }
   ],
   "source": [
    "y_final=data_fit.gross_class\n",
    "clf=GaussianProcessClassifier(1.0 * RBF(1.0))\n",
    "clf.fit(data_, np.array(y_final).reshape(-1,1))\n",
    "bias_final=clf.score(data_,np.array(y_final).reshape(-1,1))\n",
    "y_pred=clf.predict(X_new_pca)"
   ]
  },
  {
   "cell_type": "code",
   "execution_count": 812,
   "metadata": {},
   "outputs": [
    {
     "data": {
      "text/plain": [
       "array([2, 2, 2, 2])"
      ]
     },
     "execution_count": 812,
     "metadata": {},
     "output_type": "execute_result"
    }
   ],
   "source": [
    "y_pred"
   ]
  },
  {
   "cell_type": "code",
   "execution_count": 813,
   "metadata": {},
   "outputs": [
    {
     "data": {
      "text/plain": [
       "0.9820846905537459"
      ]
     },
     "execution_count": 813,
     "metadata": {},
     "output_type": "execute_result"
    }
   ],
   "source": [
    "bias_final"
   ]
  },
  {
   "cell_type": "code",
   "execution_count": 814,
   "metadata": {},
   "outputs": [],
   "source": [
    "bins=pd.qcut(data.log_gross,\n",
    "                     q=[0,0.25,0.5,0.75,1],\n",
    "                    labels=[1,2,3,4],\n",
    "                    retbins=True)"
   ]
  },
  {
   "cell_type": "code",
   "execution_count": 815,
   "metadata": {},
   "outputs": [
    {
     "data": {
      "text/plain": [
       "array([14.81654677, 16.88474651, 17.8721855 , 18.5353505 , 20.17135638])"
      ]
     },
     "execution_count": 815,
     "metadata": {},
     "output_type": "execute_result"
    }
   ],
   "source": [
    "bins[1]"
   ]
  },
  {
   "cell_type": "code",
   "execution_count": 816,
   "metadata": {},
   "outputs": [
    {
     "data": {
      "text/plain": [
       "21525449.914266534"
      ]
     },
     "execution_count": 816,
     "metadata": {},
     "output_type": "execute_result"
    }
   ],
   "source": [
    "np.exp(16.88474651)"
   ]
  },
  {
   "cell_type": "code",
   "execution_count": 817,
   "metadata": {},
   "outputs": [
    {
     "data": {
      "text/plain": [
       "57781863.26156561"
      ]
     },
     "execution_count": 817,
     "metadata": {},
     "output_type": "execute_result"
    }
   ],
   "source": [
    "np.exp(17.8721855)"
   ]
  },
  {
   "cell_type": "code",
   "execution_count": 875,
   "metadata": {},
   "outputs": [
    {
     "data": {
      "text/plain": [
       "575849200.6751523"
      ]
     },
     "execution_count": 875,
     "metadata": {},
     "output_type": "execute_result"
    }
   ],
   "source": [
    "np.exp(20.17135638)"
   ]
  },
  {
   "cell_type": "markdown",
   "metadata": {},
   "source": [
    "**prediction by SVM**"
   ]
  },
  {
   "cell_type": "code",
   "execution_count": 818,
   "metadata": {},
   "outputs": [
    {
     "name": "stderr",
     "output_type": "stream",
     "text": [
      "/anaconda3/lib/python3.6/site-packages/sklearn/utils/validation.py:761: DataConversionWarning: A column-vector y was passed when a 1d array was expected. Please change the shape of y to (n_samples, ), for example using ravel().\n",
      "  y = column_or_1d(y, warn=True)\n"
     ]
    }
   ],
   "source": [
    "svc_rbf=SVC(gamma=2, C=1,max_iter=1000)\n",
    "svc_rbf.fit(data_, np.array(y_final).reshape(-1,1))\n",
    "bias_final=svc_rbf.score(data_,np.array(y_final).reshape(-1,1))\n",
    "y_pred=svc_rbf.predict(X_new_pca)"
   ]
  },
  {
   "cell_type": "code",
   "execution_count": 819,
   "metadata": {},
   "outputs": [
    {
     "data": {
      "text/plain": [
       "array([4, 4, 4, 4])"
      ]
     },
     "execution_count": 819,
     "metadata": {},
     "output_type": "execute_result"
    }
   ],
   "source": [
    "y_pred"
   ]
  },
  {
   "cell_type": "code",
   "execution_count": 820,
   "metadata": {},
   "outputs": [
    {
     "data": {
      "text/plain": [
       "0.9820846905537459"
      ]
     },
     "execution_count": 820,
     "metadata": {},
     "output_type": "execute_result"
    }
   ],
   "source": [
    "bias_final"
   ]
  },
  {
   "cell_type": "markdown",
   "metadata": {},
   "source": [
    "**prediction by KNN**"
   ]
  },
  {
   "cell_type": "code",
   "execution_count": 832,
   "metadata": {},
   "outputs": [
    {
     "name": "stderr",
     "output_type": "stream",
     "text": [
      "/anaconda3/lib/python3.6/site-packages/ipykernel_launcher.py:2: DataConversionWarning: A column-vector y was passed when a 1d array was expected. Please change the shape of y to (n_samples, ), for example using ravel().\n",
      "  \n"
     ]
    }
   ],
   "source": [
    "KNN=KNeighborsClassifier(3)\n",
    "KNN.fit(data_, np.array(y_final).reshape(-1,1))\n",
    "bias_final=KNN.score(data_,np.array(y_final).reshape(-1,1))\n",
    "y_pred=KNN.predict(X_new_pca)"
   ]
  },
  {
   "cell_type": "code",
   "execution_count": 833,
   "metadata": {},
   "outputs": [
    {
     "data": {
      "text/plain": [
       "array([2, 2, 2, 2])"
      ]
     },
     "execution_count": 833,
     "metadata": {},
     "output_type": "execute_result"
    }
   ],
   "source": [
    "y_pred"
   ]
  },
  {
   "cell_type": "code",
   "execution_count": 834,
   "metadata": {},
   "outputs": [
    {
     "data": {
      "text/plain": [
       "0.9560260586319218"
      ]
     },
     "execution_count": 834,
     "metadata": {},
     "output_type": "execute_result"
    }
   ],
   "source": [
    "bias_final"
   ]
  },
  {
   "cell_type": "code",
   "execution_count": null,
   "metadata": {},
   "outputs": [],
   "source": []
  }
 ],
 "metadata": {
  "kernelspec": {
   "display_name": "Python 3",
   "language": "python",
   "name": "python3"
  },
  "language_info": {
   "codemirror_mode": {
    "name": "ipython",
    "version": 3
   },
   "file_extension": ".py",
   "mimetype": "text/x-python",
   "name": "python",
   "nbconvert_exporter": "python",
   "pygments_lexer": "ipython3",
   "version": "3.6.8"
  }
 },
 "nbformat": 4,
 "nbformat_minor": 2
}
